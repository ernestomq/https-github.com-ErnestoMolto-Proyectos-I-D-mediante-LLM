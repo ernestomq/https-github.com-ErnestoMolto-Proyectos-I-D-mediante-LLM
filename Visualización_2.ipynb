{
 "cells": [
  {
   "cell_type": "code",
   "execution_count": 13,
   "id": "cb54e6f6",
   "metadata": {},
   "outputs": [],
   "source": [
    "import os\n",
    "import re\n",
    "import time\n",
    "import pickle\n",
    "import numpy as np\n",
    "import matplotlib.pyplot as plt\n",
    "import matplotlib.cm as cm\n",
    "import pandas as pd\n",
    "from sklearn.manifold import TSNE\n",
    "from sklearn.decomposition import PCA\n",
    "from langchain.vectorstores import FAISS\n",
    "from langchain.embeddings import HuggingFaceBgeEmbeddings"
   ]
  },
  {
   "cell_type": "markdown",
   "id": "b0941a12",
   "metadata": {},
   "source": [
    "Cargar los embbeding"
   ]
  },
  {
   "cell_type": "code",
   "execution_count": 2,
   "id": "be6e507f",
   "metadata": {},
   "outputs": [
    {
     "name": "stderr",
     "output_type": "stream",
     "text": [
      "C:\\Users\\emolt\\AppData\\Local\\Temp\\ipykernel_22260\\4211943635.py:5: LangChainDeprecationWarning: The class `HuggingFaceBgeEmbeddings` was deprecated in LangChain 0.2.2 and will be removed in 1.0. An updated version of the class exists in the :class:`~langchain-huggingface package and should be used instead. To use it run `pip install -U :class:`~langchain-huggingface` and import as `from :class:`~langchain_huggingface import HuggingFaceEmbeddings``.\n",
      "  emb = HuggingFaceBgeEmbeddings(\n"
     ]
    }
   ],
   "source": [
    "model_name = \"intfloat/e5-small-v2\"\n",
    "model_kwargs = {\"device\": \"cpu\"}\n",
    "encode_kwargs = {\"normalize_embeddings\": True, \"batch_size\": 32}\n",
    "\n",
    "emb = HuggingFaceBgeEmbeddings(\n",
    "    model_name=model_name,\n",
    "    model_kwargs=model_kwargs,\n",
    "    encode_kwargs=encode_kwargs\n",
    ")\n",
    "\n",
    "vectorstore = FAISS.load_local(\"faiss_index_proyectos_10_txt\", embeddings=emb, \n",
    "                               allow_dangerous_deserialization=True)\n",
    "\n",
    "documents = list(vectorstore.docstore._dict.values())\n",
    "embeddings = vectorstore.index.reconstruct_n(0, vectorstore.index.ntotal)\n",
    "metadata = [doc.metadata for doc in documents]"
   ]
  },
  {
   "cell_type": "markdown",
   "id": "301fd5da",
   "metadata": {},
   "source": [
    "CSV"
   ]
  },
  {
   "cell_type": "code",
   "execution_count": 3,
   "id": "ed269920",
   "metadata": {},
   "outputs": [],
   "source": [
    "csv_path = r\"C:\\Users\\emolt\\OneDrive - UMH\\MASTER\\TFM\\BASE\\cordis_data_processed.csv\"\n",
    "df = pd.read_csv(csv_path, encoding=\"utf-8\")\n",
    "\n",
    "# Crear diccionario: grant agreement -> type of proposal\n",
    "proposal_map = dict(zip(df[\"grant agreement\"], df[\"type of proposal\"]))"
   ]
  },
  {
   "cell_type": "markdown",
   "id": "f0bdcaf0",
   "metadata": {},
   "source": [
    "TYPE "
   ]
  },
  {
   "cell_type": "code",
   "execution_count": 4,
   "id": "47961550",
   "metadata": {},
   "outputs": [],
   "source": [
    "def normalize_label(label: str) -> str:\n",
    "    if \"-\" in label:\n",
    "        return label.split(\"-\")[0]\n",
    "    return label\n",
    "\n",
    "labels_original = []\n",
    "labels_main = []\n",
    "\n",
    "for meta in metadata:\n",
    "    source = meta.get(\"source\", \"\")\n",
    "    match = re.search(r\"grant_agreement_(\\d+)\", source)\n",
    "    if match:\n",
    "        grant_id = int(match.group(1)) \n",
    "        original_label = proposal_map.get(grant_id, \"unknown\")\n",
    "        labels_original.append(original_label)\n",
    "        labels_main.append(normalize_label(original_label))\n",
    "    else:\n",
    "        labels_original.append(\"unknown\")\n",
    "        labels_main.append(\"unknown\")\n"
   ]
  },
  {
   "cell_type": "code",
   "execution_count": 5,
   "id": "4cbf3c45",
   "metadata": {},
   "outputs": [
    {
     "name": "stdout",
     "output_type": "stream",
     "text": [
      "Counter({'RIA': 107056, 'MSCA-IF-EF-ST': 52178, 'IA': 51935, 'CSA': 48082, 'SME-1': 44331, 'MSCA-IF': 33295, 'ERC-STG': 30377, 'ERC-COG': 24636, 'ERC-ADG': 17435, 'SME-2': 13383, 'MSCA-RISE': 12052, 'MSCA-ITN-ETN': 10381, 'MSCA-ITN': 9905, 'ERC-POC': 8428, 'MSCA-IF-GF': 7892, 'MSCA-IF-EF-RI': 5179, 'CS2-IA': 3283, 'MSCA-IF-EF-CAR': 3109, 'ERA-NET-Cofund': 2837, 'ERC-POC-LS': 2222, 'SESAR-RIA': 2089, 'MSCA-IF-EF-SE': 1888, 'CS2-RIA': 1880, 'SME-2b': 1856, 'MSCA-ITN-EID': 1586, 'ERC-SyG': 1353, 'SME': 1254, 'MSCA-COFUND-DP': 1179, 'MSCA-COFUND-FP': 1133, 'CSA-LSP': 1023, 'MSCA-ITN-EJD': 980, 'ECSEL-RIA': 957, 'FCH2-RIA': 912, 'Shift2Rail-RIA': 893, 'ECSEL-IA': 812, 'COFUND-EJP': 779, 'BBI-RIA': 760, 'IMI2-RIA': 757, 'MSCA-COFUND': 744, 'PCP': 679, 'SESAR-IA': 386, 'BBI-IA-DEMO': 266, 'SESAR-CSA': 237, 'FCH2-IA': 185, 'BBI-CSA': 174, 'RIA-LS': 114, 'IMI2-CSA': 92, 'BBI-IA-FLAG': 85, 'FCH2-CSA': 85, 'COFUND': 84, 'EuroHPC-IA': 83, 'H2020-EEN-SGA': 80, 'Shift2Rail-CSA': 76, 'Shift2Rail-IA': 67, 'CS2-CSA': 64, 'PPI': 53, 'CSA-LS': 51, 'ERC-LVG': 43, 'EuroHPC-RIA': 41, 'Shift2Rail-RIA-LS': 40, 'ECSEL-CSA': 31, 'IA-LS': 28, 'COFUND-PCP': 17, 'Unknown': 17, 'Shift2Rail-IA-LS': 14})\n"
     ]
    }
   ],
   "source": [
    "from collections import Counter\n",
    "print(Counter(labels_original))"
   ]
  },
  {
   "cell_type": "markdown",
   "id": "8a1a3735",
   "metadata": {},
   "source": [
    "PCA"
   ]
  },
  {
   "cell_type": "code",
   "execution_count": 9,
   "id": "e12ffe96",
   "metadata": {},
   "outputs": [],
   "source": [
    "start = time.time()\n",
    "\n",
    "reducer_PCA = PCA(n_components=2)\n",
    "reduced_PCA = reducer_PCA.fit_transform(embeddings)\n",
    "\n",
    "end = time.time()\n",
    "print(f\"t-SNE ejecutado en {end - start:.2f} segundos\")"
   ]
  },
  {
   "cell_type": "code",
   "execution_count": 11,
   "id": "2f9c076a",
   "metadata": {},
   "outputs": [
    {
     "name": "stderr",
     "output_type": "stream",
     "text": [
      "C:\\Users\\emolt\\AppData\\Local\\Temp\\ipykernel_22260\\1814051025.py:6: MatplotlibDeprecationWarning: The get_cmap function was deprecated in Matplotlib 3.7 and will be removed in 3.11. Use ``matplotlib.colormaps[name]`` or ``matplotlib.colormaps.get_cmap()`` or ``pyplot.get_cmap()`` instead.\n",
      "  cmap = cm.get_cmap(\"tab20\", len(sublabels))\n"
     ]
    }
   ],
   "source": [
    "os.makedirs(\"plots_type_proposal\", exist_ok=True)\n",
    "\n",
    "for target_label in sorted(set(labels_main)):\n",
    "    sublabels = sorted(set(l for l, main in zip(labels_original, labels_main) if main == target_label))\n",
    "    \n",
    "    cmap = cm.get_cmap(\"tab20\", len(sublabels))\n",
    "    color_map = {sublabel: cmap(i) for i, sublabel in enumerate(sublabels)}\n",
    "    \n",
    "    colors = [color_map[l] if m == target_label else \"lightgray\"\n",
    "              for l, m in zip(labels_original, labels_main)]\n",
    "    \n",
    "    plt.figure(figsize=(7, 6))\n",
    "\n",
    "    # Primero los puntos que NO pertenecen a la categoría (grises)\n",
    "    mask = [m != target_label for m in labels_main]\n",
    "    plt.scatter(reduced_PCA[mask, 0], reduced_PCA[mask, 1], \n",
    "                c=\"lightgray\", alpha=0.2, s=5)\n",
    "\n",
    "    # Ahora los puntos de la categoría principal con sus sub-colores\n",
    "    for sublabel in sublabels:\n",
    "        mask = [(m == target_label) and (l == sublabel) \n",
    "                for l, m in zip(labels_original, labels_main)]\n",
    "        plt.scatter(reduced_PCA[mask, 0], reduced_PCA[mask, 1], \n",
    "                    c=[color_map[sublabel]], alpha=0.8, s=10, label=sublabel)\n",
    "\n",
    "    plt.title(f\"Distribución destacando: {target_label}\", fontsize=10)\n",
    "    plt.xlabel(\"Primera PCA\")\n",
    "    plt.ylabel(\"Segunda PCA\")\n",
    "    plt.xticks([])\n",
    "    plt.yticks([])\n",
    "    plt.legend(title=\"Subtipos\", bbox_to_anchor=(1.05, 1), loc='upper left', fontsize=8)\n",
    "    plt.tight_layout()\n",
    "\n",
    "    safe_label = str(target_label).replace(\" \", \"_\").replace(\"/\", \"_\")\n",
    "    plt.savefig(f\"plots_type_proposal/pca_{safe_label}.png\", dpi=300, bbox_inches=\"tight\")\n",
    "    plt.close()"
   ]
  },
  {
   "cell_type": "markdown",
   "id": "34cd84e2",
   "metadata": {},
   "source": [
    "TSNE"
   ]
  },
  {
   "cell_type": "code",
   "execution_count": 14,
   "id": "4df067c4",
   "metadata": {},
   "outputs": [
    {
     "name": "stderr",
     "output_type": "stream",
     "text": [
      "C:\\Users\\emolt\\anaconda3\\envs\\py310real\\lib\\site-packages\\threadpoolctl.py:1226: RuntimeWarning: \n",
      "Found Intel OpenMP ('libiomp') and LLVM OpenMP ('libomp') loaded at\n",
      "the same time. Both libraries are known to be incompatible and this\n",
      "can cause random crashes or deadlocks on Linux when loaded in the\n",
      "same Python program.\n",
      "Using threadpoolctl may cause crashes or deadlocks. For more\n",
      "information and possible workarounds, please see\n",
      "    https://github.com/joblib/threadpoolctl/blob/master/multiple_openmp.md\n",
      "\n",
      "  warnings.warn(msg, RuntimeWarning)\n"
     ]
    },
    {
     "name": "stdout",
     "output_type": "stream",
     "text": [
      "t-SNE ejecutado en 9042.23 segundos\n"
     ]
    }
   ],
   "source": [
    "start = time.time()\n",
    "\n",
    "reducer_TSNE = TSNE(n_components=2, perplexity=30, init=\"pca\", random_state=42)\n",
    "reduced_TSNE = reducer_TSNE.fit_transform(embeddings)\n",
    "\n",
    "end = time.time()\n",
    "print(f\"t-SNE ejecutado en {end - start:.2f} segundos\")"
   ]
  },
  {
   "cell_type": "code",
   "execution_count": 15,
   "id": "e3fbf73b",
   "metadata": {},
   "outputs": [
    {
     "name": "stderr",
     "output_type": "stream",
     "text": [
      "C:\\Users\\emolt\\AppData\\Local\\Temp\\ipykernel_22260\\2966614963.py:8: MatplotlibDeprecationWarning: The get_cmap function was deprecated in Matplotlib 3.7 and will be removed in 3.11. Use ``matplotlib.colormaps[name]`` or ``matplotlib.colormaps.get_cmap()`` or ``pyplot.get_cmap()`` instead.\n",
      "  cmap = cm.get_cmap(\"tab20\", len(sublabels))\n"
     ]
    }
   ],
   "source": [
    "os.makedirs(\"plots_type_proposal_tsne\", exist_ok=True)\n",
    "\n",
    "for target_label in sorted(set(labels_main)):\n",
    "    sublabels = sorted(set(l for l, main in zip(labels_original, labels_main) if main == target_label))\n",
    "    \n",
    "    cmap = cm.get_cmap(\"tab20\", len(sublabels))\n",
    "    color_map = {sublabel: cmap(i) for i, sublabel in enumerate(sublabels)}\n",
    "    \n",
    "    plt.figure(figsize=(7, 6))\n",
    "\n",
    "    mask = [m != target_label for m in labels_main]\n",
    "    plt.scatter(reduced_TSNE[mask, 0], reduced_TSNE[mask, 1], \n",
    "                c=\"lightgray\", alpha=0.2, s=5)\n",
    "\n",
    "    for sublabel in sublabels:\n",
    "        mask = [(m == target_label) and (l == sublabel) \n",
    "                for l, m in zip(labels_original, labels_main)]\n",
    "        plt.scatter(reduced_TSNE[mask, 0], reduced_TSNE[mask, 1], \n",
    "                    c=[color_map[sublabel]], alpha=0.8, s=10, label=sublabel)\n",
    "\n",
    "    plt.title(f\"t-SNE destacando: {target_label}\", fontsize=10)\n",
    "    plt.xlabel(\"t-SNE dimensión 1\")\n",
    "    plt.ylabel(\"t-SNE dimensión 2\")\n",
    "    plt.xticks([])\n",
    "    plt.yticks([])\n",
    "    plt.legend(title=\"Subtipos\", bbox_to_anchor=(1.05, 1), loc='upper left', fontsize=8)\n",
    "    plt.tight_layout()\n",
    "\n",
    "    safe_label = str(target_label).replace(\" \", \"_\").replace(\"/\", \"_\")\n",
    "    plt.savefig(f\"plots_type_proposal_tsne/tsne_{safe_label}.png\", dpi=300, bbox_inches=\"tight\")\n",
    "    plt.close()"
   ]
  }
 ],
 "metadata": {
  "kernelspec": {
   "display_name": "Python 3.10 REAL",
   "language": "python",
   "name": "py310real"
  },
  "language_info": {
   "codemirror_mode": {
    "name": "ipython",
    "version": 3
   },
   "file_extension": ".py",
   "mimetype": "text/x-python",
   "name": "python",
   "nbconvert_exporter": "python",
   "pygments_lexer": "ipython3",
   "version": "3.10.16"
  }
 },
 "nbformat": 4,
 "nbformat_minor": 5
}
