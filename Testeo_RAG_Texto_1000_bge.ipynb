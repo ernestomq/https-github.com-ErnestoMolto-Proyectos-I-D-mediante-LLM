{
 "cells": [
  {
   "cell_type": "markdown",
   "id": "fd658d35-ed2f-4afb-a72b-60fc2d48a707",
   "metadata": {},
   "source": [
    "# Testeo RAG Texto plano con BGE chunkc=1000 y overlap=80%"
   ]
  },
  {
   "cell_type": "markdown",
   "id": "19fe6d32-cc2f-4667-8347-8528cc85ab83",
   "metadata": {},
   "source": [
    "USAR ENVIRONMENT local_llm_26042926"
   ]
  },
  {
   "cell_type": "code",
   "execution_count": 1,
   "id": "64933111-e08a-4c31-8277-d007f0549711",
   "metadata": {},
   "outputs": [],
   "source": [
    "from langchain import hub\n",
    "from langchain.schema import StrOutputParser\n",
    "from langchain.schema.runnable import RunnablePassthrough\n",
    "from langchain.text_splitter import RecursiveCharacterTextSplitter\n",
    "from langchain.vectorstores import Chroma\n",
    "from langchain.schema import Document\n",
    "from langchain.chains import LLMChain, HypotheticalDocumentEmbedder\n",
    "from langchain.prompts import PromptTemplate"
   ]
  },
  {
   "cell_type": "code",
   "execution_count": 2,
   "id": "5ee52122-3db3-4d44-8448-3887fd860b02",
   "metadata": {},
   "outputs": [],
   "source": [
    "local_llm = \"llama3:70b\"\n",
    "url_llm = \"http://172.17.30.133:11434\" # ordenados con 2 gpus\n",
    "#url_llm = \"http://172.17.30.172:11434\" #COMPUTACION\n",
    "\n",
    "from langchain_community.llms import Ollama\n",
    "llm = Ollama(model=local_llm, base_url=url_llm, temperature=0) "
   ]
  },
  {
   "cell_type": "code",
   "execution_count": 3,
   "id": "88abf37e-3da5-480f-9bce-c030e0efa5d5",
   "metadata": {},
   "outputs": [
    {
     "name": "stderr",
     "output_type": "stream",
     "text": [
      "C:\\ProgramData\\miniconda3\\envs\\local_llm_24062024\\lib\\site-packages\\sentence_transformers\\cross_encoder\\CrossEncoder.py:11: TqdmWarning: IProgress not found. Please update jupyter and ipywidgets. See https://ipywidgets.readthedocs.io/en/stable/user_install.html\n",
      "  from tqdm.autonotebook import tqdm, trange\n",
      "C:\\ProgramData\\miniconda3\\envs\\local_llm_24062024\\lib\\site-packages\\huggingface_hub\\file_download.py:1132: FutureWarning: `resume_download` is deprecated and will be removed in version 1.0.0. Downloads always resume when possible. If you want to force a new download, use `force_download=True`.\n",
      "  warnings.warn(\n"
     ]
    }
   ],
   "source": [
    "# SE USA UNA DE LAS GPU\n",
    "from langchain.embeddings import HuggingFaceBgeEmbeddings\n",
    "\n",
    "model_name = \"BAAI/bge-large-en\"\n",
    "model_kwargs = {'device': 'cuda:0'}\n",
    "encode_kwargs = {\"normalize_embeddings\": True}\n",
    "\n",
    "emb = HuggingFaceBgeEmbeddings(model_name=model_name, model_kwargs=model_kwargs, encode_kwargs=encode_kwargs)"
   ]
  },
  {
   "cell_type": "code",
   "execution_count": 4,
   "id": "ed078c12-81ec-4ae3-a4ef-a8423601ee2d",
   "metadata": {},
   "outputs": [],
   "source": [
    "from langchain.vectorstores import Chroma\n",
    "vectorstore_load = Chroma(persist_directory=\"./chroma_db_1000_bge_rag_texto\", embedding_function= emb)"
   ]
  },
  {
   "cell_type": "code",
   "execution_count": 5,
   "id": "fe88a0d3-b08e-49dc-ba01-14283e258098",
   "metadata": {},
   "outputs": [],
   "source": [
    "retriever = vectorstore_load.as_retriever(search_type=\"similarity\", search_kwargs={\"k\": 8})"
   ]
  },
  {
   "cell_type": "code",
   "execution_count": 6,
   "id": "58337e67-c4d9-42af-9ebc-1059ecd05826",
   "metadata": {},
   "outputs": [],
   "source": [
    "from langchain import hub\n",
    "from langchain_core.runnables import RunnableParallel, RunnablePassthrough\n",
    "from langchain_core.output_parsers import StrOutputParser\n",
    "from langchain.prompts import ChatPromptTemplate\n",
    "\n",
    "template = \"\"\"You are an assistant for question-answering tasks and an expert in research projects funded by the European Union under the Horizon 2020 programme.\n",
    "Use the following context from Horizon 2020 projects to answer the question. If you don't know the answer, just say that you don't know. Use three sentences maximum and keep the answer concise.\n",
    "\n",
    "Question: {question}\n",
    "\n",
    "Context: {context} \n",
    "\n",
    "Answer:\n",
    "\n",
    "\"\"\"\n",
    "prompt = ChatPromptTemplate.from_template(template)\n",
    "\n",
    "def format_docs(docs):\n",
    "    return \"\\n\\n\".join(doc.page_content for doc in docs)\n",
    "\n",
    "rag_chain = (\n",
    "    {\"context\": retriever | format_docs, \"question\": RunnablePassthrough()}\n",
    "    | prompt\n",
    "    | llm\n",
    "    | StrOutputParser()\n",
    ")"
   ]
  },
  {
   "cell_type": "code",
   "execution_count": 7,
   "id": "df2fe902-2d94-4070-8201-f3dc1739ac36",
   "metadata": {},
   "outputs": [],
   "source": [
    "query_1 = \"What is the objective of the project with grant agreement 740934?\"\n",
    "query_2 = \"What is the total cost of the project with the acronym HYPERGRYD?\"\n",
    "query_3 = \"How much funding was allocated for the project titled Transforming Research through Innovative Practices for Linked interdisciplinary Exploration?\"\n",
    "query_4 = \"Which organisation played the role of coordinator in the grant agreement 777998?\"\n",
    "query_5 = \"What topic does the project with the acronym INTERRFACE belong to?\"\n",
    "query_6 = \"What legal basis was the project titled European Joint Programme on Radioactive Waste Management framed within?\"\n",
    "query_7 = \"What type of proposal was the grant agreement 814416?\"\n",
    "query_8 = \"To which master call was the project with the acronym G9NIGHT submitted?\"\n",
    "query_9 = \"To which sub call was the project titled Electron Nanocrystallography submitted?\"\n",
    "query_10 = \"Provide the grant agreement of 1 project which objective is related to artificial intelligence.\"\n",
    "query_11 = \"Provide the acronym of 1 project which objective is related to robotics.\"\n",
    "query_12 = \"Provide the title of 1 project which objective is related to geolocation.\"\n",
    "query_13 = \"Provide the objective of 1 project related to digital twin.\"\n",
    "query_14 = \"Provide the objective of 3 different projects related to corrosion.\"\n",
    "query_15 = \"Provide the title of 3 different projects which objective is related to offshore structures.\"\n",
    "query_16 = \"Provide the acronym of 3 different projects which objective is related to materials engineering.\"\n",
    "query_17 = \"Provide the grant agreement of 3 different projects which objective is related to nanocomposites.\"\n",
    "query_18 = \"Provide the name of an organisation that has participated in projects which objective is related to artificial intelligence.\"\n",
    "query_19 = \"Provide the name of an organisation which activity type is PRC and that has participated in projects which objective is related to robotics.\"\n",
    "query_20 = \"Provide the PIC of an organisation that is a small or medium enterprise and has participated in projects which objective is related to geolocation.\"\n",
    "query_21 = \"Provide the name of an organisation that has played the role of coordinator in projects which objective is related to digital twin.\"\n",
    "query_22 = \"Provide the PIC of a Spanish organisation that has participated in projects which objective is related to corrosion.\"\n",
    "query_23 = \"Provide the name of an european organisation that has participated in projects which objective is related to offshore structures.\"\n",
    "query_24 = \"Provide the PIC of an european small or medium enterprise that has participated in projects which objective is related to materials engineering.\"\n",
    "query_25 = \"Provide the name of an european small or medium enterprise that has played the role of coordinator in projects which objective is related to nanocomposites.\""
   ]
  },
  {
   "cell_type": "markdown",
   "id": "267ab166-3356-4475-8ab1-82a622b56135",
   "metadata": {},
   "source": [
    "### Factuales"
   ]
  },
  {
   "cell_type": "code",
   "execution_count": 8,
   "id": "aaa586c3-0bf4-4eda-82d2-4273eba1b69c",
   "metadata": {},
   "outputs": [
    {
     "name": "stderr",
     "output_type": "stream",
     "text": [
      "C:\\ProgramData\\miniconda3\\envs\\local_llm_24062024\\lib\\site-packages\\langchain_core\\_api\\deprecation.py:139: LangChainDeprecationWarning: The method `BaseRetriever.get_relevant_documents` was deprecated in langchain-core 0.1.46 and will be removed in 0.3.0. Use invoke instead.\n",
      "  warn_deprecated(\n",
      "C:\\ProgramData\\miniconda3\\envs\\local_llm_24062024\\lib\\site-packages\\transformers\\models\\bert\\modeling_bert.py:435: UserWarning: 1Torch was not compiled with flash attention. (Triggered internally at C:\\cb\\pytorch_1000000000000\\work\\aten\\src\\ATen\\native\\transformers\\cuda\\sdp_utils.cpp:455.)\n",
      "  attn_output = torch.nn.functional.scaled_dot_product_attention(\n"
     ]
    },
    {
     "data": {
      "text/plain": [
       "'The objective of the project with grant agreement 740934, also known as TRIVALENT, is to develop a comprehensive approach to violent radicalization in the EU, combining repressive measures with preventive measures, in collaboration with actors of civil society and communities of reference, while respecting fundamental rights, promoting integration, cultural dialogue, and fighting discrimination.'"
      ]
     },
     "execution_count": 8,
     "metadata": {},
     "output_type": "execute_result"
    }
   ],
   "source": [
    "retrieved_docs_1 = retriever.get_relevant_documents(query_1)\n",
    "answer_1 = rag_chain.invoke(query_1) #\"What is the objective of the project with grant agreement 740934?\"\n",
    "answer_1"
   ]
  },
  {
   "cell_type": "markdown",
   "id": "bd2d5e9f-6f46-48cc-a715-4b75bc43a879",
   "metadata": {},
   "source": [
    "ES CORRECTAAA!"
   ]
  },
  {
   "cell_type": "code",
   "execution_count": null,
   "id": "b071fb99-fd60-4eb8-a405-3e347d4d676b",
   "metadata": {},
   "outputs": [],
   "source": []
  },
  {
   "cell_type": "code",
   "execution_count": 9,
   "id": "2426e9f1-5bec-4262-ad4e-56645e57236b",
   "metadata": {},
   "outputs": [
    {
     "data": {
      "text/plain": [
       "\"The total cost of the project with the acronym HYPERGRYD is not mentioned in the provided context. I don't know the answer.\""
      ]
     },
     "execution_count": 9,
     "metadata": {},
     "output_type": "execute_result"
    }
   ],
   "source": [
    "retrieved_docs_2 = retriever.get_relevant_documents(query_2)\n",
    "answer_2 = rag_chain.invoke(query_2) #\"What is the total cost of the project with the acronym HYPERGRYD?\"\n",
    "answer_2"
   ]
  },
  {
   "cell_type": "markdown",
   "id": "78ce7fe2-49b8-4d53-85ca-e7694f16228a",
   "metadata": {},
   "source": [
    "NO DA RESPUESTA"
   ]
  },
  {
   "cell_type": "code",
   "execution_count": null,
   "id": "44b67e69-ccbf-419c-a266-96330bbd3709",
   "metadata": {},
   "outputs": [],
   "source": []
  },
  {
   "cell_type": "code",
   "execution_count": 10,
   "id": "d00b4e3e-967f-47a4-94e2-e31a8d2731ee",
   "metadata": {},
   "outputs": [
    {
     "data": {
      "text/plain": [
       "'The project titled \"Transforming Research through Innovative Practices for Linked interdisciplinary Exploration\" had a total funded cost of 3498953.75 euros.'"
      ]
     },
     "execution_count": 10,
     "metadata": {},
     "output_type": "execute_result"
    }
   ],
   "source": [
    "retrieved_docs_3 = retriever.get_relevant_documents(query_3)\n",
    "answer_3 = rag_chain.invoke(query_3) #\"How much funding was allocated for the project titled Transforming Research through Innovative Practices for Linked interdisciplinary Exploration?\"\n",
    "answer_3"
   ]
  },
  {
   "cell_type": "markdown",
   "id": "d77e33a7-c3c8-4065-be17-242afe5fa3e7",
   "metadata": {},
   "source": [
    "INCORRECTA"
   ]
  },
  {
   "cell_type": "code",
   "execution_count": null,
   "id": "bca66b17-44af-40a8-85d1-7249100db126",
   "metadata": {},
   "outputs": [],
   "source": []
  },
  {
   "cell_type": "code",
   "execution_count": 11,
   "id": "e93c4506-25b1-4a6e-ab89-a8d4ddeeca3b",
   "metadata": {},
   "outputs": [
    {
     "data": {
      "text/plain": [
       "\"I don't know the answer as there is no information about the grant agreement 777998 in the provided context.\""
      ]
     },
     "execution_count": 11,
     "metadata": {},
     "output_type": "execute_result"
    }
   ],
   "source": [
    "retrieved_docs_4 = retriever.get_relevant_documents(query_4)\n",
    "answer_4 = rag_chain.invoke(query_4) # \"Which organisation played the role of coordinator in the grant agreement 777998?\"\n",
    "answer_4"
   ]
  },
  {
   "cell_type": "markdown",
   "id": "a476a2e9-1aaf-49b6-af0a-2ffb176d9e00",
   "metadata": {},
   "source": [
    "NO DA RESPUESTA"
   ]
  },
  {
   "cell_type": "code",
   "execution_count": null,
   "id": "f5a492f9-588a-4135-a2f0-f211d2644b0d",
   "metadata": {},
   "outputs": [],
   "source": []
  },
  {
   "cell_type": "code",
   "execution_count": 12,
   "id": "58a199b3-0df6-4220-a824-71f4e43860fe",
   "metadata": {},
   "outputs": [
    {
     "data": {
      "text/plain": [
       "\"I don't know the topic of the project with the acronym INTERRFACE as it is not mentioned in the provided context.\""
      ]
     },
     "execution_count": 12,
     "metadata": {},
     "output_type": "execute_result"
    }
   ],
   "source": [
    "retrieved_docs_5 = retriever.get_relevant_documents(query_5)\n",
    "answer_5 = rag_chain.invoke(query_5) # \"What topic does the project with the acronym INTERRFACE belong to?\"\n",
    "answer_5"
   ]
  },
  {
   "cell_type": "markdown",
   "id": "e2a859be-2b49-4ded-8ea5-1bd8a890842a",
   "metadata": {},
   "source": [
    "NO DA RESPUESTA"
   ]
  },
  {
   "cell_type": "code",
   "execution_count": null,
   "id": "01a57f29-313c-441b-8ba4-78fe69abc80e",
   "metadata": {},
   "outputs": [],
   "source": []
  },
  {
   "cell_type": "code",
   "execution_count": 13,
   "id": "f760b70b-f068-461f-a768-593ffc28c13f",
   "metadata": {},
   "outputs": [
    {
     "data": {
      "text/plain": [
       "'The European Joint Programme on Radioactive Waste Management was framed within the legal basis H2020-EuratomEuratom.'"
      ]
     },
     "execution_count": 13,
     "metadata": {},
     "output_type": "execute_result"
    }
   ],
   "source": [
    "retrieved_docs_6 = retriever.get_relevant_documents(query_6)\n",
    "answer_6 = rag_chain.invoke(query_6) # \"What legal basis was the project titled European Joint Programme on Radioactive Waste Management framed within?\"\n",
    "answer_6"
   ]
  },
  {
   "cell_type": "markdown",
   "id": "30df4457-b88e-45c0-9c9d-d16ff9229c69",
   "metadata": {},
   "source": [
    "CORRECTA"
   ]
  },
  {
   "cell_type": "code",
   "execution_count": null,
   "id": "8e2933db-9f29-4c12-be65-49443d730992",
   "metadata": {},
   "outputs": [],
   "source": []
  },
  {
   "cell_type": "code",
   "execution_count": 14,
   "id": "82a3b2b1-92bc-4d81-9336-87ba66dde6f7",
   "metadata": {},
   "outputs": [
    {
     "data": {
      "text/plain": [
       "\"The grant agreement 814416 is not mentioned in the provided context. Therefore, I don't know what type of proposal it was.\""
      ]
     },
     "execution_count": 14,
     "metadata": {},
     "output_type": "execute_result"
    }
   ],
   "source": [
    "retrieved_docs_7 = retriever.get_relevant_documents(query_7)\n",
    "answer_7 = rag_chain.invoke(query_7) # \"What type of proposal was the grant agreement 814416?\"\n",
    "answer_7"
   ]
  },
  {
   "cell_type": "markdown",
   "id": "0df78df1-af6b-4f38-908b-05195edf37d9",
   "metadata": {},
   "source": [
    "NO DA RESPUESTA"
   ]
  },
  {
   "cell_type": "code",
   "execution_count": null,
   "id": "9b23d590-c255-4526-917f-ce8d2810a626",
   "metadata": {},
   "outputs": [],
   "source": []
  },
  {
   "cell_type": "code",
   "execution_count": 15,
   "id": "95fcc380-36cd-4658-96aa-cb892ed2631e",
   "metadata": {},
   "outputs": [
    {
     "data": {
      "text/plain": [
       "\"I don't know the master call for the project with the acronym G9NIGHT as it is not mentioned in the provided context.\""
      ]
     },
     "execution_count": 15,
     "metadata": {},
     "output_type": "execute_result"
    }
   ],
   "source": [
    "retrieved_docs_8 = retriever.get_relevant_documents(query_8)\n",
    "answer_8 = rag_chain.invoke(query_8) # \"To which master call was the project with the acronym G9NIGHT submitted?\"\n",
    "answer_8"
   ]
  },
  {
   "cell_type": "markdown",
   "id": "084107cd-47d5-4e2e-8ff2-834f5f7367db",
   "metadata": {},
   "source": [
    "NO DA RESPUESTA"
   ]
  },
  {
   "cell_type": "code",
   "execution_count": null,
   "id": "f4c92a93-1869-4989-a8a6-c134ed3db889",
   "metadata": {},
   "outputs": [],
   "source": []
  },
  {
   "cell_type": "code",
   "execution_count": 16,
   "id": "d6b8e30d-2701-4afb-a011-9b11e6759ac8",
   "metadata": {},
   "outputs": [
    {
     "data": {
      "text/plain": [
       "'The project titled Electron Nanocrystallography was submitted to the subcall H2020-MSCA-ITN-2020.'"
      ]
     },
     "execution_count": 16,
     "metadata": {},
     "output_type": "execute_result"
    }
   ],
   "source": [
    "retrieved_docs_9 = retriever.get_relevant_documents(query_9)\n",
    "answer_9 = rag_chain.invoke(query_9) # \"To which sub call was the project titled Electron Nanocrystallography submitted?\"\n",
    "answer_9"
   ]
  },
  {
   "cell_type": "markdown",
   "id": "f36fcc96-e059-4d6a-9b4a-75c0a063cd54",
   "metadata": {},
   "source": [
    "CORRECTA"
   ]
  },
  {
   "cell_type": "code",
   "execution_count": null,
   "id": "cf85a48e-820d-4f27-83e9-af0ed12a0f25",
   "metadata": {},
   "outputs": [],
   "source": []
  },
  {
   "cell_type": "markdown",
   "id": "7e69b2d1-1a68-4cdb-9c36-9197e6c92d85",
   "metadata": {},
   "source": [
    "### Sobre proyectos y temáticas"
   ]
  },
  {
   "cell_type": "code",
   "execution_count": 17,
   "id": "7e4b6954-b6c2-4a15-bac3-33f47641327b",
   "metadata": {},
   "outputs": [
    {
     "data": {
      "text/plain": [
       "'The grant agreement 876982 corresponds to the project titled AI that composes complex instrumental music for movies, games, advertising and other types of digital media, which acronym is AIVA.'"
      ]
     },
     "execution_count": 17,
     "metadata": {},
     "output_type": "execute_result"
    }
   ],
   "source": [
    "retrieved_docs_10 = retriever.get_relevant_documents(query_10)\n",
    "answer_10 = rag_chain.invoke(query_10) # \"Provide the grant agreement of 1 project which objective is related to artificial intelligence.\"\n",
    "answer_10"
   ]
  },
  {
   "cell_type": "markdown",
   "id": "a0343eed-5ecb-4404-bf8e-4f6d2fdb3752",
   "metadata": {},
   "source": [
    "CORRECTA COMPLETAMENTE"
   ]
  },
  {
   "cell_type": "code",
   "execution_count": null,
   "id": "57ebddf6-6c7a-4ebc-af92-126bbb64a344",
   "metadata": {},
   "outputs": [],
   "source": []
  },
  {
   "cell_type": "code",
   "execution_count": 18,
   "id": "d7a7d711-674a-49f2-8bc5-113ad92b2699",
   "metadata": {},
   "outputs": [
    {
     "data": {
      "text/plain": [
       "'The acronym of one project related to robotics is Predict-Plan-Control.'"
      ]
     },
     "execution_count": 18,
     "metadata": {},
     "output_type": "execute_result"
    }
   ],
   "source": [
    "retrieved_docs_11 = retriever.get_relevant_documents(query_11)\n",
    "answer_11 = rag_chain.invoke(query_11) # \"Provide the acronym of 1 project which objective is related to robotics.\"\n",
    "answer_11"
   ]
  },
  {
   "cell_type": "markdown",
   "id": "d23a8032-c6b0-4e29-bea9-2dd6cfeeebc9",
   "metadata": {},
   "source": [
    "CORRECTA"
   ]
  },
  {
   "cell_type": "code",
   "execution_count": null,
   "id": "fce466dd-0f0b-4574-a5f8-00fcfe0d6fea",
   "metadata": {},
   "outputs": [],
   "source": []
  },
  {
   "cell_type": "code",
   "execution_count": 19,
   "id": "96e6487e-bb1a-4465-a357-a03a82b3f080",
   "metadata": {},
   "outputs": [
    {
     "data": {
      "text/plain": [
       "'The title of one project related to geolocation is LOCUS (LOCalization and analytics on-demand embedded in the 5G ecosystem, for Ubiquitous vertical applicationS).'"
      ]
     },
     "execution_count": 19,
     "metadata": {},
     "output_type": "execute_result"
    }
   ],
   "source": [
    "retrieved_docs_12 = retriever.get_relevant_documents(query_12)\n",
    "answer_12 = rag_chain.invoke(query_12) # \"Provide the title of 1 project which objective is related to geolocation.\"\n",
    "answer_12"
   ]
  },
  {
   "cell_type": "markdown",
   "id": "1829e8f6-dde7-4ae4-8f5c-aad876dcd6c9",
   "metadata": {},
   "source": [
    "CORRECTA ENTERA"
   ]
  },
  {
   "cell_type": "code",
   "execution_count": null,
   "id": "63f41f5d-91b5-45fd-a223-eb392c8e64dd",
   "metadata": {},
   "outputs": [],
   "source": []
  },
  {
   "cell_type": "code",
   "execution_count": 20,
   "id": "3e06fb1d-ae73-4df3-833e-c23aa8e64785",
   "metadata": {},
   "outputs": [
    {
     "data": {
      "text/plain": [
       "'The objective of the VET-TWIN project related to digital twin is to increase the potential and research capacity of the National Veterinary Research Institute (NVRI) by cooperation with internationally-leading counterparts from Germany and Denmark, specifically in the fields of animal infectious diseases, zoonoses, and food chain safety.'"
      ]
     },
     "execution_count": 20,
     "metadata": {},
     "output_type": "execute_result"
    }
   ],
   "source": [
    "retrieved_docs_13 = retriever.get_relevant_documents(query_13)\n",
    "answer_13 = rag_chain.invoke(query_13) # \"Provide the objective of 1 project related to digital twin.\"\n",
    "answer_13"
   ]
  },
  {
   "cell_type": "markdown",
   "id": "97c11d18-9ebc-4ed5-9fbb-e56c5b730795",
   "metadata": {},
   "source": [
    "NO ES CORRECTA, EL ACRONIMO LLEVA TWIN PERO NO DESCRIBE UN DIGITAL TWIN SINO QUE el El objetivo principal mencionado es aumentar la capacidad de investigación del NVRI en colaboración con instituciones de Alemania y Dinamarca, enfocándose en enfermedades infecciosas animales, zoonosis y seguridad alimentaria"
   ]
  },
  {
   "cell_type": "code",
   "execution_count": null,
   "id": "ecfb8f2f-1abc-4a43-b652-95dd6c816a1b",
   "metadata": {},
   "outputs": [],
   "source": []
  },
  {
   "cell_type": "code",
   "execution_count": 21,
   "id": "b59da5af-cf3a-42dd-868f-ec171d742ef6",
   "metadata": {},
   "outputs": [
    {
     "data": {
      "text/plain": [
       "'Here are the objectives of three different Horizon 2020 projects related to corrosion:\\n\\n1. EcoGemCoat: The main aim is to develop novel corrosion inhibitors with low toxicity and prepare smart coatings that can protect and detect corrosion.\\n\\n2. TAMING CORROSION (grant agreement 848794): The objective is to propose a radically new approach to mitigating corrosion of infrastructures, such as bridges and pipelines, by developing cost-effective corrosion mitigation strategies.\\n\\n3. Unspecified project (grant agreement 101007430): The objective is to develop eco-friendly multifunctional coatings that can protect and detect corrosion based on different mechanisms combining nanostructured inhibiting and sensing additives.'"
      ]
     },
     "execution_count": 21,
     "metadata": {},
     "output_type": "execute_result"
    }
   ],
   "source": [
    "retrieved_docs_14 = retriever.get_relevant_documents(query_14)\n",
    "answer_14 = rag_chain.invoke(query_14) # \"Provide the objective of 3 different projects related to corrosion.\"\n",
    "answer_14"
   ]
  },
  {
   "cell_type": "markdown",
   "id": "69a73d34-2fc9-4417-b85e-d42e08f94261",
   "metadata": {},
   "source": [
    "TODA LA INFORMACIÓN ES CORRECTA"
   ]
  },
  {
   "cell_type": "code",
   "execution_count": null,
   "id": "f585465b-6120-46ad-9662-1e48c260fc19",
   "metadata": {},
   "outputs": [],
   "source": []
  },
  {
   "cell_type": "code",
   "execution_count": 22,
   "id": "82c8b282-68ef-4f59-9c9b-8be9cb402cd5",
   "metadata": {},
   "outputs": [
    {
     "data": {
      "text/plain": [
       "'Here are three different Horizon 2020 projects related to offshore structures:\\n\\n1. SEAFLOWER - This project proposes strategies to exploit anchor foundations for floating offshore wind turbines.\\n2. ASSO - The principal purpose of this project is to establish a sound framework for the feasibility and assessment of adhesive connections for offshore wind installations in the marine environment.\\n3. SATH - The aim of this project is to demonstrate in real conditions a floating structure for offshore wind that will allow a reduction in LCOE (Levelized Cost Of Energy) over the current floating technology.'"
      ]
     },
     "execution_count": 22,
     "metadata": {},
     "output_type": "execute_result"
    }
   ],
   "source": [
    "retrieved_docs_15 = retriever.get_relevant_documents(query_15)\n",
    "answer_15 = rag_chain.invoke(query_15) # \"Provide the title of 3 different projects which objective is related to offshore structures.\"\n",
    "answer_15"
   ]
  },
  {
   "cell_type": "markdown",
   "id": "604c94b5-89cd-43d2-9938-ae6e8cc2eb14",
   "metadata": {},
   "source": [
    "CORRECTA TOTALMENTE AUNQUE NO DA LOS TITULOS, QUE ES LO QUE SE PIDE"
   ]
  },
  {
   "cell_type": "code",
   "execution_count": null,
   "id": "fa8ab9d8-ceea-492e-8135-bb0d15379f13",
   "metadata": {},
   "outputs": [],
   "source": []
  },
  {
   "cell_type": "code",
   "execution_count": 23,
   "id": "f207dee0-6db3-4735-9771-3671557777cb",
   "metadata": {},
   "outputs": [
    {
     "data": {
      "text/plain": [
       "'Here are three Horizon 2020 projects related to materials engineering, along with their acronyms:\\n\\n1. UMA3 (Unique Materials for Advanced Aerospace Applications)\\n2. Grade2XL (Application of Functionally Graded Materials to Extra-Large Structures)\\n3. MULTI-FUN (Enabling MULTI-FUNctional performance through multi-material additive manufacturing)'"
      ]
     },
     "execution_count": 23,
     "metadata": {},
     "output_type": "execute_result"
    }
   ],
   "source": [
    "retrieved_docs_16 = retriever.get_relevant_documents(query_16)\n",
    "answer_16 = rag_chain.invoke(query_16) # \"Provide the acronym of 3 different projects which objective is related to materials engineering.\"\n",
    "answer_16"
   ]
  },
  {
   "cell_type": "markdown",
   "id": "6fef99f7-050d-4b0e-8a48-09448dc3e85e",
   "metadata": {},
   "source": [
    "CORRECTA TOTALMENTE"
   ]
  },
  {
   "cell_type": "code",
   "execution_count": null,
   "id": "2296911d-046c-4a6f-bab6-37c93ebf49e4",
   "metadata": {},
   "outputs": [],
   "source": []
  },
  {
   "cell_type": "code",
   "execution_count": 24,
   "id": "890737d9-9b12-449e-a828-a3651e43bae9",
   "metadata": {},
   "outputs": [
    {
     "data": {
      "text/plain": [
       "'Here are three different projects related to nanocomposites with their grant agreements:\\n\\n1. Grant agreement 645993 - CO-PILOT project: \"Flexible Pilot Scale Manufacturing of Cost-Effective Nanocomposites through Tailored Precision Nanoparticles in Dispersion\"\\n2. Grant agreement 646397 - NANOLEAP project: \"Development of a coordinated network of specialized pilot lines for the production of nanocomposite based products for different civil infrastructure and building applications\"\\n3. Grant agreement 754890 - NanoComSol project: \"Nanocomposite Solutions\"'"
      ]
     },
     "execution_count": 24,
     "metadata": {},
     "output_type": "execute_result"
    }
   ],
   "source": [
    "retrieved_docs_17 = retriever.get_relevant_documents(query_17)\n",
    "answer_17 = rag_chain.invoke(query_17) # \"Provide the grant agreement of 3 different projects which objective is related to nanocomposites.\"\n",
    "answer_17"
   ]
  },
  {
   "cell_type": "markdown",
   "id": "b09b0208-65ef-4061-9cd2-8993ecf60724",
   "metadata": {},
   "source": [
    "TODO ES CORRECTO, SALVO EL TITULO DEL SEGUNDO PROYECTO, que en vez del titulo es una descripcion del proyecto"
   ]
  },
  {
   "cell_type": "code",
   "execution_count": null,
   "id": "de707860-755a-48eb-9de6-6e75efcdf200",
   "metadata": {},
   "outputs": [],
   "source": []
  },
  {
   "cell_type": "markdown",
   "id": "cd6bae7e-b660-4ad0-88b0-65be47d385da",
   "metadata": {},
   "source": [
    "### Preguntas sobre socios"
   ]
  },
  {
   "cell_type": "code",
   "execution_count": 25,
   "id": "b7e75f56-bd84-48ce-a1af-87b92ebf7efb",
   "metadata": {},
   "outputs": [
    {
     "data": {
      "text/plain": [
       "'The name of an organisation that has participated in projects related to artificial intelligence is FUNDACION INSTITUTO INTERNACIONAL DE INVESTIGACION EN INTELIGENCIA ARTIFICIAL Y CIENCIAS DE LA COMPUTACION.'"
      ]
     },
     "execution_count": 25,
     "metadata": {},
     "output_type": "execute_result"
    }
   ],
   "source": [
    "retrieved_docs_18 = retriever.get_relevant_documents(query_18)\n",
    "answer_18 = rag_chain.invoke(query_18) # \"Provide the name of an organisation that has participated in projects which objective is related to artificial intelligence.\"\n",
    "answer_18"
   ]
  },
  {
   "cell_type": "markdown",
   "id": "4b77d41e-b80f-4f81-a61d-603b303d30e4",
   "metadata": {},
   "source": [
    "COMPROBAR SI ES CORRECTA, ESTA EMPRESA HA PARTICIPADO EN: 871177 y 952176"
   ]
  },
  {
   "cell_type": "code",
   "execution_count": null,
   "id": "49eb5799-56e9-4efd-bebd-e3636df29466",
   "metadata": {},
   "outputs": [],
   "source": []
  },
  {
   "cell_type": "code",
   "execution_count": 26,
   "id": "807a03df-fcef-4149-a666-53a9e87fb4f1",
   "metadata": {},
   "outputs": [
    {
     "data": {
      "text/plain": [
       "'The name of an organisation which activity type is PRC and that has participated in projects related to robotics is SMART ROBOTICS BV, ACUTRONIC ROBOTICS SOCIEDAD LIMITADA, ACUTRONIC LINK ROBOTICS AG, PAL ROBOTICS SL.'"
      ]
     },
     "execution_count": 26,
     "metadata": {},
     "output_type": "execute_result"
    }
   ],
   "source": [
    "retrieved_docs_19 = retriever.get_relevant_documents(query_19)\n",
    "answer_19 = rag_chain.invoke(query_19) # \"Provide the name of an organisation which activity type is PRC and that has participated in projects which objective is related to robotics.\"\n",
    "answer_19"
   ]
  },
  {
   "cell_type": "markdown",
   "id": "7d148409-05da-4315-9aa2-6cbe37c4a532",
   "metadata": {},
   "source": [
    "TODAS SON PRC, CHECKEAR TEMATICA, AUNQUE PARECE QUE ESTA BIEN"
   ]
  },
  {
   "cell_type": "code",
   "execution_count": null,
   "id": "0155cf00-19b1-4a26-a483-f5b5e17a85af",
   "metadata": {},
   "outputs": [],
   "source": []
  },
  {
   "cell_type": "code",
   "execution_count": 27,
   "id": "c2169655-e2aa-49a2-99c1-d108fa1b8a19",
   "metadata": {},
   "outputs": [
    {
     "data": {
      "text/plain": [
       "'The PIC of an organisation that is a small or medium enterprise and has participated in projects related to geolocation is 984514305, which belongs to GEOMOBILE GMBH.'"
      ]
     },
     "execution_count": 27,
     "metadata": {},
     "output_type": "execute_result"
    }
   ],
   "source": [
    "retrieved_docs_20 = retriever.get_relevant_documents(query_20)\n",
    "answer_20 = rag_chain.invoke(query_20) # \"Provide the PIC of an organisation that is a small or medium enterprise and has participated in projects which objective is related to geolocation.\"\n",
    "answer_20"
   ]
  },
  {
   "cell_type": "markdown",
   "id": "3b92681e-59d0-4df3-8b92-3235bc7adcdf",
   "metadata": {},
   "source": [
    "PIC, NOMBRE Y SME CORRECTO. CHECKEAR TEMATICA AUNQUE PARECE CORRECTO"
   ]
  },
  {
   "cell_type": "code",
   "execution_count": null,
   "id": "b868ff2b-2ed2-4fd4-879e-239324dc1c0c",
   "metadata": {},
   "outputs": [],
   "source": []
  },
  {
   "cell_type": "code",
   "execution_count": 28,
   "id": "3efa551a-d04e-44c6-833b-7806d3b70a66",
   "metadata": {},
   "outputs": [
    {
     "data": {
      "text/plain": [
       "\"The University of Oxford (THE CHANCELLOR, MASTERS AND SCHOLARS OF THE UNIVERSITY OF OXFORD) and the University of Brighton have played the role of coordinator in projects related to digital twin under Horizon 2020 programme. However, without more specific information about the projects' objectives, it's difficult to pinpoint a single organisation that has worked specifically on digital twin projects.\""
      ]
     },
     "execution_count": 28,
     "metadata": {},
     "output_type": "execute_result"
    }
   ],
   "source": [
    "retrieved_docs_21 = retriever.get_relevant_documents(query_21)\n",
    "answer_21 = rag_chain.invoke(query_21) # \"Provide the name of an organisation that has played the role of coordinator in projects which objective is related to digital twin.\"\n",
    "answer_21"
   ]
  },
  {
   "cell_type": "markdown",
   "id": "8c813c22-e396-4212-9424-b83c91d279a2",
   "metadata": {},
   "source": [
    "CHECKEAR"
   ]
  },
  {
   "cell_type": "code",
   "execution_count": null,
   "id": "47d3ffe6-5f87-4a07-bbee-5cd2e5a31110",
   "metadata": {},
   "outputs": [],
   "source": []
  },
  {
   "cell_type": "code",
   "execution_count": 29,
   "id": "64532ea0-85d0-4abe-aa1a-e72789a911b5",
   "metadata": {},
   "outputs": [
    {
     "data": {
      "text/plain": [
       "'The Spanish organisation that has participated in projects related to corrosion is FUNDACION CENTRO ANDALUZ DE INVESTIGACIONES DEL AGUA, with a PIC of 947977218.'"
      ]
     },
     "execution_count": 29,
     "metadata": {},
     "output_type": "execute_result"
    }
   ],
   "source": [
    "retrieved_docs_22 = retriever.get_relevant_documents(query_22)\n",
    "answer_22 = rag_chain.invoke(query_22)\n",
    "answer_22 # \"Provide the PIC of a Spanish organisation that has participated in projects which objective is related to corrosion.\""
   ]
  },
  {
   "cell_type": "markdown",
   "id": "0f871ea7-9c50-489c-b605-1dd5d7cda6dc",
   "metadata": {},
   "source": [
    "LA INFORMACION ES CORRECTA, CHEKCERA LA TEMATICA DE SUS PROYECTOS"
   ]
  },
  {
   "cell_type": "code",
   "execution_count": null,
   "id": "28aed452-0c5d-4c5d-86c6-2e8f5f5008dd",
   "metadata": {},
   "outputs": [],
   "source": []
  },
  {
   "cell_type": "code",
   "execution_count": 30,
   "id": "16000fbc-3b63-49fd-8c8c-cf8e08eed24d",
   "metadata": {},
   "outputs": [
    {
     "data": {
      "text/plain": [
       "\"None of the provided context mentions a specific European organisation participating in projects related to offshore structures. However, it's possible that some of the projects mentioned are collaborations between multiple organisations, including European ones. If you're looking for information on specific organisations involved in these projects, I'd be happy to help you search further.\""
      ]
     },
     "execution_count": 30,
     "metadata": {},
     "output_type": "execute_result"
    }
   ],
   "source": [
    "retrieved_docs_23 = retriever.get_relevant_documents(query_23)\n",
    "answer_23 = rag_chain.invoke(query_23)\n",
    "answer_23 # \"Provide the name of an european organisation that has participated in projects which objective is related to offshore structures.\""
   ]
  },
  {
   "cell_type": "markdown",
   "id": "f100d64e-a5c6-4206-bd63-6fbf40d0815f",
   "metadata": {},
   "source": [
    "NO DA RESPUESTA"
   ]
  },
  {
   "cell_type": "code",
   "execution_count": null,
   "id": "b4c07cca-340d-44af-a4e0-49a9c51077a6",
   "metadata": {},
   "outputs": [],
   "source": []
  },
  {
   "cell_type": "code",
   "execution_count": 31,
   "id": "99c91e04-505c-4338-acf8-aab379e5020c",
   "metadata": {},
   "outputs": [
    {
     "data": {
      "text/plain": [
       "'The PIC of a European small or medium enterprise that has participated in projects related to materials engineering is 985560159, which belongs to INTERNATIONAL PROJECT MANAGEMENT PLATING ET MATERIALS SARL based in France. Another example is 983256409, which belongs to ELEMENT MATERIAL TECHNOLOGY SEVILLE SL based in Spain.'"
      ]
     },
     "execution_count": 31,
     "metadata": {},
     "output_type": "execute_result"
    }
   ],
   "source": [
    "retrieved_docs_24 = retriever.get_relevant_documents(query_24)\n",
    "answer_24 = rag_chain.invoke(query_24)\n",
    "answer_24 # \"Provide the PIC of an european small or medium enterprise that has participated in projects which objective is related to materials engineering.\""
   ]
  },
  {
   "cell_type": "markdown",
   "id": "efc2fe55-d1d7-47da-ae43-4c150bffbd1c",
   "metadata": {},
   "source": [
    "TOTALMENTE CORRECTA"
   ]
  },
  {
   "cell_type": "code",
   "execution_count": null,
   "id": "c97fdadd-a87f-486c-b569-e372de86c850",
   "metadata": {},
   "outputs": [],
   "source": []
  },
  {
   "cell_type": "code",
   "execution_count": 32,
   "id": "6115f67d-6800-45e1-a3c9-8978f81ffe91",
   "metadata": {},
   "outputs": [
    {
     "data": {
      "text/plain": [
       "'The European small or medium enterprise that has played the role of coordinator in projects related to nanocomposites is not explicitly mentioned in the provided context. However, it can be inferred that the coordinators are likely to be research technology organizations (RTOs) or other entities involved in the projects, but their specific names are not provided.'"
      ]
     },
     "execution_count": 32,
     "metadata": {},
     "output_type": "execute_result"
    }
   ],
   "source": [
    "retrieved_docs_25 = retriever.get_relevant_documents(query_25)\n",
    "answer_25 = rag_chain.invoke(query_25)\n",
    "answer_25 # \"Provide the name of an european small or medium enterprise that has played the role of coordinator in projects which objective is related to nanocomposites.\""
   ]
  },
  {
   "cell_type": "markdown",
   "id": "e0e6d0f6-a867-4fcc-919b-4a57a94596b5",
   "metadata": {},
   "source": [
    "NO DA RESPUESTA"
   ]
  },
  {
   "cell_type": "code",
   "execution_count": 33,
   "id": "5e2c6fbc-7ecf-4df2-90dc-9f06f91c7584",
   "metadata": {},
   "outputs": [
    {
     "data": {
      "text/plain": [
       "8"
      ]
     },
     "execution_count": 33,
     "metadata": {},
     "output_type": "execute_result"
    }
   ],
   "source": [
    "len(retrieved_docs_25)"
   ]
  },
  {
   "cell_type": "markdown",
   "id": "82796f9f-3e4f-46ea-b36e-b85061c5a9dc",
   "metadata": {},
   "source": [
    "### Se guardan los resultados en un excel"
   ]
  },
  {
   "cell_type": "code",
   "execution_count": 42,
   "id": "2df37cb2-e938-4ab8-985d-2d6faa412d9f",
   "metadata": {},
   "outputs": [],
   "source": [
    "#!pip install pandas"
   ]
  },
  {
   "cell_type": "code",
   "execution_count": 44,
   "id": "df34f323-272b-409b-bdd6-32d27abcf479",
   "metadata": {},
   "outputs": [],
   "source": [
    "#!pip install numpy"
   ]
  },
  {
   "cell_type": "code",
   "execution_count": 34,
   "id": "43a72d11-589a-4282-9533-918d97254e58",
   "metadata": {},
   "outputs": [
    {
     "data": {
      "text/html": [
       "<div>\n",
       "<style scoped>\n",
       "    .dataframe tbody tr th:only-of-type {\n",
       "        vertical-align: middle;\n",
       "    }\n",
       "\n",
       "    .dataframe tbody tr th {\n",
       "        vertical-align: top;\n",
       "    }\n",
       "\n",
       "    .dataframe thead th {\n",
       "        text-align: right;\n",
       "    }\n",
       "</style>\n",
       "<table border=\"1\" class=\"dataframe\">\n",
       "  <thead>\n",
       "    <tr style=\"text-align: right;\">\n",
       "      <th></th>\n",
       "      <th>Consulta</th>\n",
       "      <th>Retrieved_context_1</th>\n",
       "      <th>Retrieved_context_2</th>\n",
       "      <th>Retrieved_context_3</th>\n",
       "      <th>Retrieved_context_4</th>\n",
       "      <th>Retrieved_context_5</th>\n",
       "      <th>Retrieved_context_6</th>\n",
       "      <th>Retrieved_context_7</th>\n",
       "      <th>Retrieved_context_8</th>\n",
       "      <th>Answer</th>\n",
       "    </tr>\n",
       "  </thead>\n",
       "  <tbody>\n",
       "    <tr>\n",
       "      <th>0</th>\n",
       "      <td>What is the objective of the project with gran...</td>\n",
       "      <td>page_content='.3.7.Secure societies - Protecti...</td>\n",
       "      <td>page_content='. The grant agreement 740934 was...</td>\n",
       "      <td>page_content='. The grant agreement 740688 was...</td>\n",
       "      <td>page_content='The grant agreement 740934 corre...</td>\n",
       "      <td>page_content='The grant agreement 740362 corre...</td>\n",
       "      <td>page_content='The grant agreement 740723 corre...</td>\n",
       "      <td>page_content='. The grant agreement 740689 was...</td>\n",
       "      <td>page_content='. The grant agreement 740689 was...</td>\n",
       "      <td>The objective of the project with grant agreem...</td>\n",
       "    </tr>\n",
       "    <tr>\n",
       "      <th>1</th>\n",
       "      <td>What is the total cost of the project with the...</td>\n",
       "      <td>page_content='. The grant agreement 814881 had...</td>\n",
       "      <td>page_content='The grant agreement 789842 corre...</td>\n",
       "      <td>page_content='. The grant agreement 641544 was...</td>\n",
       "      <td>page_content='. The grant agreement 641495 was...</td>\n",
       "      <td>page_content='. The grant agreement 814881 was...</td>\n",
       "      <td>page_content='The grant agreement 814881 corre...</td>\n",
       "      <td>page_content='. The grant agreement 641495 was...</td>\n",
       "      <td>page_content='The grant agreement 807942 corre...</td>\n",
       "      <td>The total cost of the project with the acronym...</td>\n",
       "    </tr>\n",
       "    <tr>\n",
       "      <th>2</th>\n",
       "      <td>How much funding was allocated for the project...</td>\n",
       "      <td>page_content=\". The grant agreement 709443 was...</td>\n",
       "      <td>page_content=\". The grant agreement 709443 was...</td>\n",
       "      <td>page_content='. The grant agreement 798866 was...</td>\n",
       "      <td>page_content='.1.3.EXCELLENT SCIENCE - Marie S...</td>\n",
       "      <td>page_content='. The grant agreement 872396 was...</td>\n",
       "      <td>page_content='.1.3.EXCELLENT SCIENCE - Marie S...</td>\n",
       "      <td>page_content='. The grant agreement 795641 had...</td>\n",
       "      <td>page_content='. The grant agreement 795641 was...</td>\n",
       "      <td>The project titled \"Transforming Research thro...</td>\n",
       "    </tr>\n",
       "    <tr>\n",
       "      <th>3</th>\n",
       "      <td>Which organisation played the role of coordina...</td>\n",
       "      <td>page_content='Information about the organisati...</td>\n",
       "      <td>page_content='Information about the organisati...</td>\n",
       "      <td>page_content='Information about the organisati...</td>\n",
       "      <td>page_content='Information about the organisati...</td>\n",
       "      <td>page_content='Information about the organisati...</td>\n",
       "      <td>page_content='Information about the organisati...</td>\n",
       "      <td>page_content='Information about the organisati...</td>\n",
       "      <td>page_content='Information about the organisati...</td>\n",
       "      <td>I don't know the answer as there is no informa...</td>\n",
       "    </tr>\n",
       "    <tr>\n",
       "      <th>4</th>\n",
       "      <td>What topic does the project with the acronym I...</td>\n",
       "      <td>page_content='The grant agreement 654248 corre...</td>\n",
       "      <td>page_content='The grant agreement 730913 corre...</td>\n",
       "      <td>page_content='The grant agreement 714591 corre...</td>\n",
       "      <td>page_content='The grant agreement 664584 corre...</td>\n",
       "      <td>page_content='The grant agreement 730954 corre...</td>\n",
       "      <td>page_content='The grant agreement 665421 corre...</td>\n",
       "      <td>page_content='The grant agreement 731075 corre...</td>\n",
       "      <td>page_content='The grant agreement 101004984 co...</td>\n",
       "      <td>I don't know the topic of the project with the...</td>\n",
       "    </tr>\n",
       "    <tr>\n",
       "      <th>5</th>\n",
       "      <td>What legal basis was the project titled Europe...</td>\n",
       "      <td>page_content='. The grant agreement 653951 was...</td>\n",
       "      <td>page_content='The grant agreement 847593 corre...</td>\n",
       "      <td>page_content='The grant agreement 653951 corre...</td>\n",
       "      <td>page_content='. The grant agreement 755554 was...</td>\n",
       "      <td>page_content='. The gran agreement 847593 obje...</td>\n",
       "      <td>page_content='. The Joint Programme will gener...</td>\n",
       "      <td>page_content='. Such Joint Programming will co...</td>\n",
       "      <td>page_content='The grant agreement 945098 corre...</td>\n",
       "      <td>The European Joint Programme on Radioactive Wa...</td>\n",
       "    </tr>\n",
       "    <tr>\n",
       "      <th>6</th>\n",
       "      <td>What type of proposal was the grant agreement ...</td>\n",
       "      <td>page_content='The grant agreement 816516 corre...</td>\n",
       "      <td>page_content='The grant agreement 811764 corre...</td>\n",
       "      <td>page_content='. The grant agreement 816516 was...</td>\n",
       "      <td>page_content='The grant agreement 811765 corre...</td>\n",
       "      <td>page_content='., which acronym is V-LAP. The g...</td>\n",
       "      <td>page_content='The grant agreement 811744 corre...</td>\n",
       "      <td>page_content='The grant agreement 814425 corre...</td>\n",
       "      <td>page_content='. The grant agreement 811764 was...</td>\n",
       "      <td>The grant agreement 814416 is not mentioned in...</td>\n",
       "    </tr>\n",
       "    <tr>\n",
       "      <th>7</th>\n",
       "      <td>To which master call was the project with the ...</td>\n",
       "      <td>page_content='The grant agreement 699119 corre...</td>\n",
       "      <td>page_content='. The grant agreement 699119 was...</td>\n",
       "      <td>page_content='. The grant agreement 813999 was...</td>\n",
       "      <td>page_content='. The grant agreement 851809 was...</td>\n",
       "      <td>page_content='. The grant agreement 816149 was...</td>\n",
       "      <td>page_content='. The grant agreement 813999 was...</td>\n",
       "      <td>page_content='. The grant agreement 699119 was...</td>\n",
       "      <td>page_content='The grant agreement 813999 corre...</td>\n",
       "      <td>I don't know the master call for the project w...</td>\n",
       "    </tr>\n",
       "    <tr>\n",
       "      <th>8</th>\n",
       "      <td>To which sub call was the project titled Elect...</td>\n",
       "      <td>page_content='. Recently, pixelated detectors ...</td>\n",
       "      <td>page_content='. Low-Energy Electron Diffractio...</td>\n",
       "      <td>page_content='.Over the last 20 years, electro...</td>\n",
       "      <td>page_content='The grant agreement 639119 corre...</td>\n",
       "      <td>page_content='. Data sets are no longer single...</td>\n",
       "      <td>page_content='The grant agreement 956099 corre...</td>\n",
       "      <td>page_content='. The overarching goal of this p...</td>\n",
       "      <td>page_content='. The grant agreement 101019932 ...</td>\n",
       "      <td>The project titled Electron Nanocrystallograph...</td>\n",
       "    </tr>\n",
       "    <tr>\n",
       "      <th>9</th>\n",
       "      <td>Provide the grant agreement of 1 project which...</td>\n",
       "      <td>page_content='The grant agreement 876982 corre...</td>\n",
       "      <td>page_content='The grant agreement 101015922 co...</td>\n",
       "      <td>page_content='The grant agreement 649043 corre...</td>\n",
       "      <td>page_content='. The grant agreement 952070 was...</td>\n",
       "      <td>page_content='The grant agreement 101016577 co...</td>\n",
       "      <td>page_content='. The grant agreement 952215 was...</td>\n",
       "      <td>page_content='. The grant agreement 101016577 ...</td>\n",
       "      <td>page_content='The grant agreement 826060 corre...</td>\n",
       "      <td>The grant agreement 876982 corresponds to the ...</td>\n",
       "    </tr>\n",
       "    <tr>\n",
       "      <th>10</th>\n",
       "      <td>Provide the acronym of 1 project which objecti...</td>\n",
       "      <td>page_content='The grant agreement 795714 corre...</td>\n",
       "      <td>page_content='The grant agreement 731540 corre...</td>\n",
       "      <td>page_content='The grant agreement 640891 corre...</td>\n",
       "      <td>page_content='The grant agreement 788298 corre...</td>\n",
       "      <td>page_content='The grant agreement 101018395 co...</td>\n",
       "      <td>page_content=\"The grant agreement 713010 corre...</td>\n",
       "      <td>page_content='. The grant agreement 731330 had...</td>\n",
       "      <td>page_content='The grant agreement 753219 corre...</td>\n",
       "      <td>The acronym of one project related to robotics...</td>\n",
       "    </tr>\n",
       "    <tr>\n",
       "      <th>11</th>\n",
       "      <td>Provide the title of 1 project which objective...</td>\n",
       "      <td>page_content='.The specific project objectives...</td>\n",
       "      <td>page_content='. The grant agreement 871249 was...</td>\n",
       "      <td>page_content='. The grant agreement 871249 was...</td>\n",
       "      <td>page_content='. The grant agreement 673128 was...</td>\n",
       "      <td>page_content='. The overall objective of the T...</td>\n",
       "      <td>page_content='The grant agreement 871249 corre...</td>\n",
       "      <td>page_content='. The grant agreement 871249 was...</td>\n",
       "      <td>page_content='. The grant agreement 777695 was...</td>\n",
       "      <td>The title of one project related to geolocatio...</td>\n",
       "    </tr>\n",
       "    <tr>\n",
       "      <th>12</th>\n",
       "      <td>Provide the objective of 1 project related to ...</td>\n",
       "      <td>page_content=\". Initial topics include: smart ...</td>\n",
       "      <td>page_content='. The second set of objectives a...</td>\n",
       "      <td>page_content='.Main objectives of the project ...</td>\n",
       "      <td>page_content='.The main 5-Alive project object...</td>\n",
       "      <td>page_content='.The project objectives are:1. I...</td>\n",
       "      <td>page_content='.The concept of the VET-TWIN pro...</td>\n",
       "      <td>page_content='.e. Canada, China, Japan, South ...</td>\n",
       "      <td>page_content='.0 euros. The gran agreement 692...</td>\n",
       "      <td>The objective of the VET-TWIN project related ...</td>\n",
       "    </tr>\n",
       "    <tr>\n",
       "      <th>13</th>\n",
       "      <td>Provide the objective of 3 different projects ...</td>\n",
       "      <td>page_content='.The main aim of EcoGemCoat will...</td>\n",
       "      <td>page_content='.0 euros. The gran agreement 101...</td>\n",
       "      <td>page_content='. In this project we address one...</td>\n",
       "      <td>page_content='. The grant agreement 101031287 ...</td>\n",
       "      <td>page_content='.0 euros. The grant agreement 84...</td>\n",
       "      <td>page_content='. The grant agreement 864905 was...</td>\n",
       "      <td>page_content='The grant agreement 848794 corre...</td>\n",
       "      <td>page_content='. The grant agreement 848794 was...</td>\n",
       "      <td>Here are the objectives of three different Hor...</td>\n",
       "    </tr>\n",
       "    <tr>\n",
       "      <th>14</th>\n",
       "      <td>Provide the title of 3 different projects whic...</td>\n",
       "      <td>page_content='. The grant agreement 891826 was...</td>\n",
       "      <td>page_content='. The ASSO project has the princ...</td>\n",
       "      <td>page_content='.92 euros. The grant agreement 8...</td>\n",
       "      <td>page_content='. The grant agreement 891826 was...</td>\n",
       "      <td>page_content='. Consequently, in order to incr...</td>\n",
       "      <td>page_content='. Effective solutions can be dra...</td>\n",
       "      <td>page_content='.  The aim of the Blue Growth Fa...</td>\n",
       "      <td>page_content='. The challenge nowadays is to r...</td>\n",
       "      <td>Here are three different Horizon 2020 projects...</td>\n",
       "    </tr>\n",
       "    <tr>\n",
       "      <th>15</th>\n",
       "      <td>Provide the acronym of 3 different projects wh...</td>\n",
       "      <td>page_content='. The concept of integrated know...</td>\n",
       "      <td>page_content='The grant agreement 862017 corre...</td>\n",
       "      <td>page_content='. The grant agreement 862617 was...</td>\n",
       "      <td>page_content='The grant agreement 862617 corre...</td>\n",
       "      <td>page_content='The grant agreement 820783 corre...</td>\n",
       "      <td>page_content='The grant agreement 952463 corre...</td>\n",
       "      <td>page_content='. The grant agreement 820783 was...</td>\n",
       "      <td>page_content='. The grant agreement 958374 was...</td>\n",
       "      <td>Here are three Horizon 2020 projects related t...</td>\n",
       "    </tr>\n",
       "    <tr>\n",
       "      <th>16</th>\n",
       "      <td>Provide the grant agreement of 3 different pro...</td>\n",
       "      <td>page_content='. The grant agreement 645993 was...</td>\n",
       "      <td>page_content='. The grant agreement 645993 was...</td>\n",
       "      <td>page_content='The grant agreement 645993 corre...</td>\n",
       "      <td>page_content='. The grant agreement 101030430 ...</td>\n",
       "      <td>page_content='. The grant agreement 645993 was...</td>\n",
       "      <td>page_content='The grant agreement 754890 corre...</td>\n",
       "      <td>page_content='. The grant agreement 646397 was...</td>\n",
       "      <td>page_content='. The grant agreement 636903 was...</td>\n",
       "      <td>Here are three different projects related to n...</td>\n",
       "    </tr>\n",
       "    <tr>\n",
       "      <th>17</th>\n",
       "      <td>Provide the name of an organisation that has p...</td>\n",
       "      <td>page_content='The organisation with Participan...</td>\n",
       "      <td>page_content='The organisation with Participan...</td>\n",
       "      <td>page_content='Information about the organisati...</td>\n",
       "      <td>page_content='Information about the organisati...</td>\n",
       "      <td>page_content='Information about the organisati...</td>\n",
       "      <td>page_content='Information about the organisati...</td>\n",
       "      <td>page_content='Information about the organisati...</td>\n",
       "      <td>page_content='The organisation with Participan...</td>\n",
       "      <td>The name of an organisation that has participa...</td>\n",
       "    </tr>\n",
       "    <tr>\n",
       "      <th>18</th>\n",
       "      <td>Provide the name of an organisation which acti...</td>\n",
       "      <td>page_content='The organisation with Participan...</td>\n",
       "      <td>page_content='The organisation with Participan...</td>\n",
       "      <td>page_content='The organisation with Participan...</td>\n",
       "      <td>page_content='The organisation with Participan...</td>\n",
       "      <td>page_content='The organisation with Participan...</td>\n",
       "      <td>page_content='The organisation with Participan...</td>\n",
       "      <td>page_content='The organisation with Participan...</td>\n",
       "      <td>page_content='The organisation with Participan...</td>\n",
       "      <td>The name of an organisation which activity typ...</td>\n",
       "    </tr>\n",
       "    <tr>\n",
       "      <th>19</th>\n",
       "      <td>Provide the PIC of an organisation that is a s...</td>\n",
       "      <td>page_content='The organisation with Participan...</td>\n",
       "      <td>page_content='The organisation with Participan...</td>\n",
       "      <td>page_content='The organisation with Participan...</td>\n",
       "      <td>page_content='The organisation with Participan...</td>\n",
       "      <td>page_content='The organisation with Participan...</td>\n",
       "      <td>page_content='The organisation with Participan...</td>\n",
       "      <td>page_content='The organisation with Participan...</td>\n",
       "      <td>page_content='The organisation with Participan...</td>\n",
       "      <td>The PIC of an organisation that is a small or ...</td>\n",
       "    </tr>\n",
       "    <tr>\n",
       "      <th>20</th>\n",
       "      <td>Provide the name of an organisation that has p...</td>\n",
       "      <td>page_content='Information about the organisati...</td>\n",
       "      <td>page_content='Information about the organisati...</td>\n",
       "      <td>page_content='Information about the organisati...</td>\n",
       "      <td>page_content='Information about the organisati...</td>\n",
       "      <td>page_content='Information about the organisati...</td>\n",
       "      <td>page_content='Information about the organisati...</td>\n",
       "      <td>page_content='Information about the organisati...</td>\n",
       "      <td>page_content='Information about the organisati...</td>\n",
       "      <td>The University of Oxford (THE CHANCELLOR, MAST...</td>\n",
       "    </tr>\n",
       "    <tr>\n",
       "      <th>21</th>\n",
       "      <td>Provide the PIC of a Spanish organisation that...</td>\n",
       "      <td>page_content='The organisation with Participan...</td>\n",
       "      <td>page_content='The organisation with Participan...</td>\n",
       "      <td>page_content='The organisation with Participan...</td>\n",
       "      <td>page_content='The organisation with Participan...</td>\n",
       "      <td>page_content='The organisation with Participan...</td>\n",
       "      <td>page_content='The organisation with Participan...</td>\n",
       "      <td>page_content='The organisation with Participan...</td>\n",
       "      <td>page_content='The organisation with Participan...</td>\n",
       "      <td>The Spanish organisation that has participated...</td>\n",
       "    </tr>\n",
       "    <tr>\n",
       "      <th>22</th>\n",
       "      <td>Provide the name of an european organisation t...</td>\n",
       "      <td>page_content='.0 euros. The gran agreement 774...</td>\n",
       "      <td>page_content='. The grant agreement 891826 was...</td>\n",
       "      <td>page_content='. The grant agreement 891826 was...</td>\n",
       "      <td>page_content='The grant agreement 798033 corre...</td>\n",
       "      <td>page_content='The grant agreement 835901 corre...</td>\n",
       "      <td>page_content='.92 euros. The grant agreement 8...</td>\n",
       "      <td>page_content='The grant agreement 793316 corre...</td>\n",
       "      <td>page_content='The grant agreement 843218 corre...</td>\n",
       "      <td>None of the provided context mentions a specif...</td>\n",
       "    </tr>\n",
       "    <tr>\n",
       "      <th>23</th>\n",
       "      <td>Provide the PIC of an european small or medium...</td>\n",
       "      <td>page_content='The organisation with Participan...</td>\n",
       "      <td>page_content='The organisation with Participan...</td>\n",
       "      <td>page_content='The organisation with Participan...</td>\n",
       "      <td>page_content='The organisation with Participan...</td>\n",
       "      <td>page_content='The organisation with Participan...</td>\n",
       "      <td>page_content='Information about the organisati...</td>\n",
       "      <td>page_content='The organisation with Participan...</td>\n",
       "      <td>page_content='The organisation with Participan...</td>\n",
       "      <td>The PIC of a European small or medium enterpri...</td>\n",
       "    </tr>\n",
       "    <tr>\n",
       "      <th>24</th>\n",
       "      <td>Provide the name of an european small or mediu...</td>\n",
       "      <td>page_content='.5 euros. The gran agreement 645...</td>\n",
       "      <td>page_content='.The goal of this infrastructure...</td>\n",
       "      <td>page_content='.0 euros. The gran agreement 686...</td>\n",
       "      <td>page_content='. This project aims to develop o...</td>\n",
       "      <td>page_content='The grant agreement 754890 corre...</td>\n",
       "      <td>page_content='.1.1.EXCELLENT SCIENCE - Europea...</td>\n",
       "      <td>page_content='. This project will support the ...</td>\n",
       "      <td>page_content='.AMANAC exploits experience gain...</td>\n",
       "      <td>The European small or medium enterprise that h...</td>\n",
       "    </tr>\n",
       "  </tbody>\n",
       "</table>\n",
       "</div>"
      ],
      "text/plain": [
       "                                             Consulta  \\\n",
       "0   What is the objective of the project with gran...   \n",
       "1   What is the total cost of the project with the...   \n",
       "2   How much funding was allocated for the project...   \n",
       "3   Which organisation played the role of coordina...   \n",
       "4   What topic does the project with the acronym I...   \n",
       "5   What legal basis was the project titled Europe...   \n",
       "6   What type of proposal was the grant agreement ...   \n",
       "7   To which master call was the project with the ...   \n",
       "8   To which sub call was the project titled Elect...   \n",
       "9   Provide the grant agreement of 1 project which...   \n",
       "10  Provide the acronym of 1 project which objecti...   \n",
       "11  Provide the title of 1 project which objective...   \n",
       "12  Provide the objective of 1 project related to ...   \n",
       "13  Provide the objective of 3 different projects ...   \n",
       "14  Provide the title of 3 different projects whic...   \n",
       "15  Provide the acronym of 3 different projects wh...   \n",
       "16  Provide the grant agreement of 3 different pro...   \n",
       "17  Provide the name of an organisation that has p...   \n",
       "18  Provide the name of an organisation which acti...   \n",
       "19  Provide the PIC of an organisation that is a s...   \n",
       "20  Provide the name of an organisation that has p...   \n",
       "21  Provide the PIC of a Spanish organisation that...   \n",
       "22  Provide the name of an european organisation t...   \n",
       "23  Provide the PIC of an european small or medium...   \n",
       "24  Provide the name of an european small or mediu...   \n",
       "\n",
       "                                  Retrieved_context_1  \\\n",
       "0   page_content='.3.7.Secure societies - Protecti...   \n",
       "1   page_content='. The grant agreement 814881 had...   \n",
       "2   page_content=\". The grant agreement 709443 was...   \n",
       "3   page_content='Information about the organisati...   \n",
       "4   page_content='The grant agreement 654248 corre...   \n",
       "5   page_content='. The grant agreement 653951 was...   \n",
       "6   page_content='The grant agreement 816516 corre...   \n",
       "7   page_content='The grant agreement 699119 corre...   \n",
       "8   page_content='. Recently, pixelated detectors ...   \n",
       "9   page_content='The grant agreement 876982 corre...   \n",
       "10  page_content='The grant agreement 795714 corre...   \n",
       "11  page_content='.The specific project objectives...   \n",
       "12  page_content=\". Initial topics include: smart ...   \n",
       "13  page_content='.The main aim of EcoGemCoat will...   \n",
       "14  page_content='. The grant agreement 891826 was...   \n",
       "15  page_content='. The concept of integrated know...   \n",
       "16  page_content='. The grant agreement 645993 was...   \n",
       "17  page_content='The organisation with Participan...   \n",
       "18  page_content='The organisation with Participan...   \n",
       "19  page_content='The organisation with Participan...   \n",
       "20  page_content='Information about the organisati...   \n",
       "21  page_content='The organisation with Participan...   \n",
       "22  page_content='.0 euros. The gran agreement 774...   \n",
       "23  page_content='The organisation with Participan...   \n",
       "24  page_content='.5 euros. The gran agreement 645...   \n",
       "\n",
       "                                  Retrieved_context_2  \\\n",
       "0   page_content='. The grant agreement 740934 was...   \n",
       "1   page_content='The grant agreement 789842 corre...   \n",
       "2   page_content=\". The grant agreement 709443 was...   \n",
       "3   page_content='Information about the organisati...   \n",
       "4   page_content='The grant agreement 730913 corre...   \n",
       "5   page_content='The grant agreement 847593 corre...   \n",
       "6   page_content='The grant agreement 811764 corre...   \n",
       "7   page_content='. The grant agreement 699119 was...   \n",
       "8   page_content='. Low-Energy Electron Diffractio...   \n",
       "9   page_content='The grant agreement 101015922 co...   \n",
       "10  page_content='The grant agreement 731540 corre...   \n",
       "11  page_content='. The grant agreement 871249 was...   \n",
       "12  page_content='. The second set of objectives a...   \n",
       "13  page_content='.0 euros. The gran agreement 101...   \n",
       "14  page_content='. The ASSO project has the princ...   \n",
       "15  page_content='The grant agreement 862017 corre...   \n",
       "16  page_content='. The grant agreement 645993 was...   \n",
       "17  page_content='The organisation with Participan...   \n",
       "18  page_content='The organisation with Participan...   \n",
       "19  page_content='The organisation with Participan...   \n",
       "20  page_content='Information about the organisati...   \n",
       "21  page_content='The organisation with Participan...   \n",
       "22  page_content='. The grant agreement 891826 was...   \n",
       "23  page_content='The organisation with Participan...   \n",
       "24  page_content='.The goal of this infrastructure...   \n",
       "\n",
       "                                  Retrieved_context_3  \\\n",
       "0   page_content='. The grant agreement 740688 was...   \n",
       "1   page_content='. The grant agreement 641544 was...   \n",
       "2   page_content='. The grant agreement 798866 was...   \n",
       "3   page_content='Information about the organisati...   \n",
       "4   page_content='The grant agreement 714591 corre...   \n",
       "5   page_content='The grant agreement 653951 corre...   \n",
       "6   page_content='. The grant agreement 816516 was...   \n",
       "7   page_content='. The grant agreement 813999 was...   \n",
       "8   page_content='.Over the last 20 years, electro...   \n",
       "9   page_content='The grant agreement 649043 corre...   \n",
       "10  page_content='The grant agreement 640891 corre...   \n",
       "11  page_content='. The grant agreement 871249 was...   \n",
       "12  page_content='.Main objectives of the project ...   \n",
       "13  page_content='. In this project we address one...   \n",
       "14  page_content='.92 euros. The grant agreement 8...   \n",
       "15  page_content='. The grant agreement 862617 was...   \n",
       "16  page_content='The grant agreement 645993 corre...   \n",
       "17  page_content='Information about the organisati...   \n",
       "18  page_content='The organisation with Participan...   \n",
       "19  page_content='The organisation with Participan...   \n",
       "20  page_content='Information about the organisati...   \n",
       "21  page_content='The organisation with Participan...   \n",
       "22  page_content='. The grant agreement 891826 was...   \n",
       "23  page_content='The organisation with Participan...   \n",
       "24  page_content='.0 euros. The gran agreement 686...   \n",
       "\n",
       "                                  Retrieved_context_4  \\\n",
       "0   page_content='The grant agreement 740934 corre...   \n",
       "1   page_content='. The grant agreement 641495 was...   \n",
       "2   page_content='.1.3.EXCELLENT SCIENCE - Marie S...   \n",
       "3   page_content='Information about the organisati...   \n",
       "4   page_content='The grant agreement 664584 corre...   \n",
       "5   page_content='. The grant agreement 755554 was...   \n",
       "6   page_content='The grant agreement 811765 corre...   \n",
       "7   page_content='. The grant agreement 851809 was...   \n",
       "8   page_content='The grant agreement 639119 corre...   \n",
       "9   page_content='. The grant agreement 952070 was...   \n",
       "10  page_content='The grant agreement 788298 corre...   \n",
       "11  page_content='. The grant agreement 673128 was...   \n",
       "12  page_content='.The main 5-Alive project object...   \n",
       "13  page_content='. The grant agreement 101031287 ...   \n",
       "14  page_content='. The grant agreement 891826 was...   \n",
       "15  page_content='The grant agreement 862617 corre...   \n",
       "16  page_content='. The grant agreement 101030430 ...   \n",
       "17  page_content='Information about the organisati...   \n",
       "18  page_content='The organisation with Participan...   \n",
       "19  page_content='The organisation with Participan...   \n",
       "20  page_content='Information about the organisati...   \n",
       "21  page_content='The organisation with Participan...   \n",
       "22  page_content='The grant agreement 798033 corre...   \n",
       "23  page_content='The organisation with Participan...   \n",
       "24  page_content='. This project aims to develop o...   \n",
       "\n",
       "                                  Retrieved_context_5  \\\n",
       "0   page_content='The grant agreement 740362 corre...   \n",
       "1   page_content='. The grant agreement 814881 was...   \n",
       "2   page_content='. The grant agreement 872396 was...   \n",
       "3   page_content='Information about the organisati...   \n",
       "4   page_content='The grant agreement 730954 corre...   \n",
       "5   page_content='. The gran agreement 847593 obje...   \n",
       "6   page_content='., which acronym is V-LAP. The g...   \n",
       "7   page_content='. The grant agreement 816149 was...   \n",
       "8   page_content='. Data sets are no longer single...   \n",
       "9   page_content='The grant agreement 101016577 co...   \n",
       "10  page_content='The grant agreement 101018395 co...   \n",
       "11  page_content='. The overall objective of the T...   \n",
       "12  page_content='.The project objectives are:1. I...   \n",
       "13  page_content='.0 euros. The grant agreement 84...   \n",
       "14  page_content='. Consequently, in order to incr...   \n",
       "15  page_content='The grant agreement 820783 corre...   \n",
       "16  page_content='. The grant agreement 645993 was...   \n",
       "17  page_content='Information about the organisati...   \n",
       "18  page_content='The organisation with Participan...   \n",
       "19  page_content='The organisation with Participan...   \n",
       "20  page_content='Information about the organisati...   \n",
       "21  page_content='The organisation with Participan...   \n",
       "22  page_content='The grant agreement 835901 corre...   \n",
       "23  page_content='The organisation with Participan...   \n",
       "24  page_content='The grant agreement 754890 corre...   \n",
       "\n",
       "                                  Retrieved_context_6  \\\n",
       "0   page_content='The grant agreement 740723 corre...   \n",
       "1   page_content='The grant agreement 814881 corre...   \n",
       "2   page_content='.1.3.EXCELLENT SCIENCE - Marie S...   \n",
       "3   page_content='Information about the organisati...   \n",
       "4   page_content='The grant agreement 665421 corre...   \n",
       "5   page_content='. The Joint Programme will gener...   \n",
       "6   page_content='The grant agreement 811744 corre...   \n",
       "7   page_content='. The grant agreement 813999 was...   \n",
       "8   page_content='The grant agreement 956099 corre...   \n",
       "9   page_content='. The grant agreement 952215 was...   \n",
       "10  page_content=\"The grant agreement 713010 corre...   \n",
       "11  page_content='The grant agreement 871249 corre...   \n",
       "12  page_content='.The concept of the VET-TWIN pro...   \n",
       "13  page_content='. The grant agreement 864905 was...   \n",
       "14  page_content='. Effective solutions can be dra...   \n",
       "15  page_content='The grant agreement 952463 corre...   \n",
       "16  page_content='The grant agreement 754890 corre...   \n",
       "17  page_content='Information about the organisati...   \n",
       "18  page_content='The organisation with Participan...   \n",
       "19  page_content='The organisation with Participan...   \n",
       "20  page_content='Information about the organisati...   \n",
       "21  page_content='The organisation with Participan...   \n",
       "22  page_content='.92 euros. The grant agreement 8...   \n",
       "23  page_content='Information about the organisati...   \n",
       "24  page_content='.1.1.EXCELLENT SCIENCE - Europea...   \n",
       "\n",
       "                                  Retrieved_context_7  \\\n",
       "0   page_content='. The grant agreement 740689 was...   \n",
       "1   page_content='. The grant agreement 641495 was...   \n",
       "2   page_content='. The grant agreement 795641 had...   \n",
       "3   page_content='Information about the organisati...   \n",
       "4   page_content='The grant agreement 731075 corre...   \n",
       "5   page_content='. Such Joint Programming will co...   \n",
       "6   page_content='The grant agreement 814425 corre...   \n",
       "7   page_content='. The grant agreement 699119 was...   \n",
       "8   page_content='. The overarching goal of this p...   \n",
       "9   page_content='. The grant agreement 101016577 ...   \n",
       "10  page_content='. The grant agreement 731330 had...   \n",
       "11  page_content='. The grant agreement 871249 was...   \n",
       "12  page_content='.e. Canada, China, Japan, South ...   \n",
       "13  page_content='The grant agreement 848794 corre...   \n",
       "14  page_content='.  The aim of the Blue Growth Fa...   \n",
       "15  page_content='. The grant agreement 820783 was...   \n",
       "16  page_content='. The grant agreement 646397 was...   \n",
       "17  page_content='Information about the organisati...   \n",
       "18  page_content='The organisation with Participan...   \n",
       "19  page_content='The organisation with Participan...   \n",
       "20  page_content='Information about the organisati...   \n",
       "21  page_content='The organisation with Participan...   \n",
       "22  page_content='The grant agreement 793316 corre...   \n",
       "23  page_content='The organisation with Participan...   \n",
       "24  page_content='. This project will support the ...   \n",
       "\n",
       "                                  Retrieved_context_8  \\\n",
       "0   page_content='. The grant agreement 740689 was...   \n",
       "1   page_content='The grant agreement 807942 corre...   \n",
       "2   page_content='. The grant agreement 795641 was...   \n",
       "3   page_content='Information about the organisati...   \n",
       "4   page_content='The grant agreement 101004984 co...   \n",
       "5   page_content='The grant agreement 945098 corre...   \n",
       "6   page_content='. The grant agreement 811764 was...   \n",
       "7   page_content='The grant agreement 813999 corre...   \n",
       "8   page_content='. The grant agreement 101019932 ...   \n",
       "9   page_content='The grant agreement 826060 corre...   \n",
       "10  page_content='The grant agreement 753219 corre...   \n",
       "11  page_content='. The grant agreement 777695 was...   \n",
       "12  page_content='.0 euros. The gran agreement 692...   \n",
       "13  page_content='. The grant agreement 848794 was...   \n",
       "14  page_content='. The challenge nowadays is to r...   \n",
       "15  page_content='. The grant agreement 958374 was...   \n",
       "16  page_content='. The grant agreement 636903 was...   \n",
       "17  page_content='The organisation with Participan...   \n",
       "18  page_content='The organisation with Participan...   \n",
       "19  page_content='The organisation with Participan...   \n",
       "20  page_content='Information about the organisati...   \n",
       "21  page_content='The organisation with Participan...   \n",
       "22  page_content='The grant agreement 843218 corre...   \n",
       "23  page_content='The organisation with Participan...   \n",
       "24  page_content='.AMANAC exploits experience gain...   \n",
       "\n",
       "                                               Answer  \n",
       "0   The objective of the project with grant agreem...  \n",
       "1   The total cost of the project with the acronym...  \n",
       "2   The project titled \"Transforming Research thro...  \n",
       "3   I don't know the answer as there is no informa...  \n",
       "4   I don't know the topic of the project with the...  \n",
       "5   The European Joint Programme on Radioactive Wa...  \n",
       "6   The grant agreement 814416 is not mentioned in...  \n",
       "7   I don't know the master call for the project w...  \n",
       "8   The project titled Electron Nanocrystallograph...  \n",
       "9   The grant agreement 876982 corresponds to the ...  \n",
       "10  The acronym of one project related to robotics...  \n",
       "11  The title of one project related to geolocatio...  \n",
       "12  The objective of the VET-TWIN project related ...  \n",
       "13  Here are the objectives of three different Hor...  \n",
       "14  Here are three different Horizon 2020 projects...  \n",
       "15  Here are three Horizon 2020 projects related t...  \n",
       "16  Here are three different projects related to n...  \n",
       "17  The name of an organisation that has participa...  \n",
       "18  The name of an organisation which activity typ...  \n",
       "19  The PIC of an organisation that is a small or ...  \n",
       "20  The University of Oxford (THE CHANCELLOR, MAST...  \n",
       "21  The Spanish organisation that has participated...  \n",
       "22  None of the provided context mentions a specif...  \n",
       "23  The PIC of a European small or medium enterpri...  \n",
       "24  The European small or medium enterprise that h...  "
      ]
     },
     "execution_count": 34,
     "metadata": {},
     "output_type": "execute_result"
    }
   ],
   "source": [
    "import pandas as pd\n",
    "import numpy as np\n",
    "\n",
    "df = pd.DataFrame()\n",
    "df['Consulta'] = [query_1, query_2, query_3, query_4, query_5, \n",
    "                  query_6, query_7, query_8, query_9, query_10, \n",
    "                  query_11, query_12, query_13, query_14, query_15, \n",
    "                  query_16, query_17,query_18, query_19, query_20, \n",
    "                  query_21, query_22, query_23, query_24, query_25]\n",
    "\n",
    "df['Retrieved_context_1'] = [retrieved_docs_1[0], retrieved_docs_2[0], retrieved_docs_3[0], retrieved_docs_4[0], retrieved_docs_5[0], \n",
    "                             retrieved_docs_6[0], retrieved_docs_7[0], retrieved_docs_8[0], retrieved_docs_9[0], retrieved_docs_10[0], \n",
    "                             retrieved_docs_11[0], retrieved_docs_12[0], retrieved_docs_13[0], retrieved_docs_14[0], retrieved_docs_15[0], \n",
    "                             retrieved_docs_16[0], retrieved_docs_17[0], retrieved_docs_18[0], retrieved_docs_19[0], retrieved_docs_20[0], \n",
    "                             retrieved_docs_21[0], retrieved_docs_22[0], retrieved_docs_23[0], retrieved_docs_24[0], retrieved_docs_25[0]]\n",
    "\n",
    "df['Retrieved_context_2'] = [\n",
    "    retrieved_docs_1[1], retrieved_docs_2[1], retrieved_docs_3[1], retrieved_docs_4[1],\n",
    "    retrieved_docs_5[1], retrieved_docs_6[1], retrieved_docs_7[1], retrieved_docs_8[1],\n",
    "    retrieved_docs_9[1], retrieved_docs_10[1], retrieved_docs_11[1], retrieved_docs_12[1],\n",
    "    retrieved_docs_13[1], retrieved_docs_14[1], retrieved_docs_15[1], retrieved_docs_16[1],\n",
    "    retrieved_docs_17[1], retrieved_docs_18[1], retrieved_docs_19[1], retrieved_docs_20[1],\n",
    "    retrieved_docs_21[1], retrieved_docs_22[1], retrieved_docs_23[1], retrieved_docs_24[1],\n",
    "    retrieved_docs_25[1]\n",
    "]\n",
    "\n",
    "df['Retrieved_context_3'] = [\n",
    "    retrieved_docs_1[2], retrieved_docs_2[2], retrieved_docs_3[2], retrieved_docs_4[2],\n",
    "    retrieved_docs_5[2], retrieved_docs_6[2], retrieved_docs_7[2], retrieved_docs_8[2],\n",
    "    retrieved_docs_9[2], retrieved_docs_10[2], retrieved_docs_11[2], retrieved_docs_12[2],\n",
    "    retrieved_docs_13[2], retrieved_docs_14[2], retrieved_docs_15[2], retrieved_docs_16[2],\n",
    "    retrieved_docs_17[2], retrieved_docs_18[2], retrieved_docs_19[2], retrieved_docs_20[2],\n",
    "    retrieved_docs_21[2], retrieved_docs_22[2], retrieved_docs_23[2], retrieved_docs_24[2],\n",
    "    retrieved_docs_25[2]\n",
    "]\n",
    "\n",
    "df['Retrieved_context_4'] = [\n",
    "    retrieved_docs_1[3], retrieved_docs_2[3], retrieved_docs_3[3], retrieved_docs_4[3],\n",
    "    retrieved_docs_5[3], retrieved_docs_6[3], retrieved_docs_7[3], retrieved_docs_8[3],\n",
    "    retrieved_docs_9[3], retrieved_docs_10[3], retrieved_docs_11[3], retrieved_docs_12[3],\n",
    "    retrieved_docs_13[3], retrieved_docs_14[3], retrieved_docs_15[3], retrieved_docs_16[3],\n",
    "    retrieved_docs_17[3], retrieved_docs_18[3], retrieved_docs_19[3], retrieved_docs_20[3],\n",
    "    retrieved_docs_21[3], retrieved_docs_22[3], retrieved_docs_23[3], retrieved_docs_24[3],\n",
    "    retrieved_docs_25[3]\n",
    "]\n",
    "\n",
    "df['Retrieved_context_5'] = [\n",
    "    retrieved_docs_1[4], retrieved_docs_2[4], retrieved_docs_3[4], retrieved_docs_4[4],\n",
    "    retrieved_docs_5[4], retrieved_docs_6[4], retrieved_docs_7[4], retrieved_docs_8[4],\n",
    "    retrieved_docs_9[4], retrieved_docs_10[4], retrieved_docs_11[4], retrieved_docs_12[4],\n",
    "    retrieved_docs_13[4], retrieved_docs_14[4], retrieved_docs_15[4], retrieved_docs_16[4],\n",
    "    retrieved_docs_17[4], retrieved_docs_18[4], retrieved_docs_19[4], retrieved_docs_20[4],\n",
    "    retrieved_docs_21[4], retrieved_docs_22[4], retrieved_docs_23[4], retrieved_docs_24[4],\n",
    "    retrieved_docs_25[4]\n",
    "]\n",
    "\n",
    "df['Retrieved_context_6'] = [\n",
    "    retrieved_docs_1[5], retrieved_docs_2[5], retrieved_docs_3[5], retrieved_docs_4[5],\n",
    "    retrieved_docs_5[5], retrieved_docs_6[5], retrieved_docs_7[5], retrieved_docs_8[5],\n",
    "    retrieved_docs_9[5], retrieved_docs_10[5], retrieved_docs_11[5], retrieved_docs_12[5],\n",
    "    retrieved_docs_13[5], retrieved_docs_14[5], retrieved_docs_15[5], retrieved_docs_16[5],\n",
    "    retrieved_docs_17[5], retrieved_docs_18[5], retrieved_docs_19[5], retrieved_docs_20[5],\n",
    "    retrieved_docs_21[5], retrieved_docs_22[5], retrieved_docs_23[5], retrieved_docs_24[5],\n",
    "    retrieved_docs_25[5]\n",
    "]\n",
    "\n",
    "df['Retrieved_context_7'] = [\n",
    "    retrieved_docs_1[6], retrieved_docs_2[6], retrieved_docs_3[6], retrieved_docs_4[6],\n",
    "    retrieved_docs_5[6], retrieved_docs_6[6], retrieved_docs_7[6], retrieved_docs_8[6],\n",
    "    retrieved_docs_9[6], retrieved_docs_10[6], retrieved_docs_11[6], retrieved_docs_12[6],\n",
    "    retrieved_docs_13[6], retrieved_docs_14[6], retrieved_docs_15[6], retrieved_docs_16[6],\n",
    "    retrieved_docs_17[6], retrieved_docs_18[6], retrieved_docs_19[6], retrieved_docs_20[6],\n",
    "    retrieved_docs_21[6], retrieved_docs_22[6], retrieved_docs_23[6], retrieved_docs_24[6],\n",
    "    retrieved_docs_25[6]\n",
    "]\n",
    "\n",
    "df['Retrieved_context_8'] = [\n",
    "    retrieved_docs_1[7], retrieved_docs_2[7], retrieved_docs_3[7], retrieved_docs_4[7],\n",
    "    retrieved_docs_5[7], retrieved_docs_6[7], retrieved_docs_7[7], retrieved_docs_8[7],\n",
    "    retrieved_docs_9[7], retrieved_docs_10[7], retrieved_docs_11[7], retrieved_docs_12[7],\n",
    "    retrieved_docs_13[7], retrieved_docs_14[7], retrieved_docs_15[7], retrieved_docs_16[7],\n",
    "    retrieved_docs_17[7], retrieved_docs_18[7], retrieved_docs_19[7], retrieved_docs_20[7],\n",
    "    retrieved_docs_21[7], retrieved_docs_22[7], retrieved_docs_23[7], retrieved_docs_24[7],\n",
    "    retrieved_docs_25[7]\n",
    "]\n",
    "\n",
    "\n",
    "df['Answer'] = [answer_1, answer_2, answer_3, answer_4, answer_5,\n",
    "    answer_6, answer_7, answer_8, answer_9, answer_10, \n",
    "    answer_11, answer_12, answer_13, answer_14, answer_15,\n",
    "    answer_16, answer_17, answer_18, answer_19, answer_20, \n",
    "    answer_21, answer_22, answer_23, answer_24, answer_25\n",
    "]\n",
    "\n",
    "\n",
    "df"
   ]
  },
  {
   "cell_type": "code",
   "execution_count": 47,
   "id": "bda5a793-baf4-4c63-b434-762184198b52",
   "metadata": {
    "scrolled": true
   },
   "outputs": [
    {
     "name": "stdout",
     "output_type": "stream",
     "text": [
      "Collecting openpyxl\n",
      "  Using cached openpyxl-3.1.4-py2.py3-none-any.whl.metadata (2.5 kB)\n",
      "Collecting et-xmlfile (from openpyxl)\n",
      "  Using cached et_xmlfile-1.1.0-py3-none-any.whl.metadata (1.8 kB)\n",
      "Using cached openpyxl-3.1.4-py2.py3-none-any.whl (251 kB)\n",
      "Using cached et_xmlfile-1.1.0-py3-none-any.whl (4.7 kB)\n",
      "Installing collected packages: et-xmlfile, openpyxl\n",
      "Successfully installed et-xmlfile-1.1.0 openpyxl-3.1.4\n"
     ]
    }
   ],
   "source": [
    "!pip install openpyxl"
   ]
  },
  {
   "cell_type": "code",
   "execution_count": 35,
   "id": "0ab9d3b3-88bb-4303-8cba-cf0ab1faec11",
   "metadata": {},
   "outputs": [],
   "source": [
    "df.to_excel('Testeo_RAG_Texto_1000_bge_18072024.xlsx', index=False)"
   ]
  },
  {
   "cell_type": "code",
   "execution_count": null,
   "id": "d1903670-998c-4fba-93ab-49aa714153c4",
   "metadata": {},
   "outputs": [],
   "source": []
  },
  {
   "cell_type": "code",
   "execution_count": null,
   "id": "a9f69ffc-f4e0-4294-b55a-9927e5e778a9",
   "metadata": {},
   "outputs": [],
   "source": []
  },
  {
   "cell_type": "code",
   "execution_count": null,
   "id": "616805bc-502c-4630-98a2-a83a0c6bc9ce",
   "metadata": {},
   "outputs": [],
   "source": []
  },
  {
   "cell_type": "code",
   "execution_count": null,
   "id": "4b8987a7-11c9-4e09-897c-ac2919255078",
   "metadata": {},
   "outputs": [],
   "source": []
  },
  {
   "cell_type": "code",
   "execution_count": null,
   "id": "249b91df-d5b7-4e74-a919-3855e82b8630",
   "metadata": {},
   "outputs": [],
   "source": []
  }
 ],
 "metadata": {
  "kernelspec": {
   "display_name": "Python 3 (ipykernel)",
   "language": "python",
   "name": "python3"
  },
  "language_info": {
   "codemirror_mode": {
    "name": "ipython",
    "version": 3
   },
   "file_extension": ".py",
   "mimetype": "text/x-python",
   "name": "python",
   "nbconvert_exporter": "python",
   "pygments_lexer": "ipython3",
   "version": "3.10.13"
  }
 },
 "nbformat": 4,
 "nbformat_minor": 5
}
