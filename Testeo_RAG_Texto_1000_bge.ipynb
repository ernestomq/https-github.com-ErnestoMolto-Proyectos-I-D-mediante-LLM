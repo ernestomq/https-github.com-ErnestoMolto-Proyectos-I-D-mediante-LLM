{
 "cells": [
  {
   "cell_type": "markdown",
   "id": "fd658d35-ed2f-4afb-a72b-60fc2d48a707",
   "metadata": {},
   "source": [
    "# Testeo RAG Texto plano con BGE chunkc=1000 y overlap=80%"
   ]
  },
  {
   "cell_type": "markdown",
   "id": "19fe6d32-cc2f-4667-8347-8528cc85ab83",
   "metadata": {},
   "source": [
    "USAR ENVIRONMENT local_llm_26042926"
   ]
  },
  {
   "cell_type": "code",
   "execution_count": 1,
   "id": "64933111-e08a-4c31-8277-d007f0549711",
   "metadata": {},
   "outputs": [],
   "source": [
    "from langchain import hub\n",
    "from langchain.schema import StrOutputParser\n",
    "from langchain.schema.runnable import RunnablePassthrough\n",
    "from langchain.text_splitter import RecursiveCharacterTextSplitter\n",
    "from langchain.vectorstores import Chroma\n",
    "from langchain.schema import Document\n",
    "from langchain.chains import LLMChain, HypotheticalDocumentEmbedder\n",
    "from langchain.prompts import PromptTemplate"
   ]
  },
  {
   "cell_type": "code",
   "execution_count": 5,
   "id": "5ee52122-3db3-4d44-8448-3887fd860b02",
   "metadata": {},
   "outputs": [],
   "source": [
    "local_llm = \"llama3.2:latest\"\n",
    "#url_llm = \"http://172.17.30.133:11434\" # ordenados con 2 gpus\n",
    "#url_llm = \"http://172.17.30.172:11434\" #COMPUTACION\n",
    "url_llm = \"http://localhost:11434\"\n",
    "from langchain_community.llms import Ollama\n",
    "llm = Ollama(model=local_llm, base_url=url_llm, temperature=0) "
   ]
  },
  {
   "cell_type": "code",
   "execution_count": 6,
   "id": "88abf37e-3da5-480f-9bce-c030e0efa5d5",
   "metadata": {},
   "outputs": [],
   "source": [
    "# SE USA UNA DE LAS GPU\n",
    "from langchain.embeddings import HuggingFaceBgeEmbeddings\n",
    "\n",
    "model_name = \"BAAI/bge-small-en\"  # En lugar de bge-large-en\n",
    "model_kwargs = {\"device\": \"cpu\"}\n",
    "encode_kwargs = {\"normalize_embeddings\": True}\n",
    "\n",
    "emb = HuggingFaceBgeEmbeddings(model_name=model_name, model_kwargs=model_kwargs, encode_kwargs=encode_kwargs)"
   ]
  },
  {
   "cell_type": "code",
   "execution_count": 7,
   "id": "ed078c12-81ec-4ae3-a4ef-a8423601ee2d",
   "metadata": {},
   "outputs": [
    {
     "name": "stderr",
     "output_type": "stream",
     "text": [
      "C:\\Users\\emolt\\AppData\\Local\\Temp\\ipykernel_3604\\2885107945.py:2: LangChainDeprecationWarning: The class `Chroma` was deprecated in LangChain 0.2.9 and will be removed in 1.0. An updated version of the class exists in the :class:`~langchain-chroma package and should be used instead. To use it run `pip install -U :class:`~langchain-chroma` and import as `from :class:`~langchain_chroma import Chroma``.\n",
      "  vectorstore_load = Chroma(persist_directory=\"./chroma_db_1000_bge_rag_texto\", embedding_function= emb)\n"
     ]
    }
   ],
   "source": [
    "from langchain.vectorstores import Chroma\n",
    "vectorstore_load = Chroma(persist_directory=\"./chroma_db_1000_bge_rag_texto\", embedding_function= emb)"
   ]
  },
  {
   "cell_type": "code",
   "execution_count": 8,
   "id": "fe88a0d3-b08e-49dc-ba01-14283e258098",
   "metadata": {},
   "outputs": [],
   "source": [
    "retriever = vectorstore_load.as_retriever(search_type=\"similarity\", search_kwargs={\"k\": 8})"
   ]
  },
  {
   "cell_type": "code",
   "execution_count": 9,
   "id": "58337e67-c4d9-42af-9ebc-1059ecd05826",
   "metadata": {},
   "outputs": [],
   "source": [
    "from langchain import hub\n",
    "from langchain_core.runnables import RunnableParallel, RunnablePassthrough\n",
    "from langchain_core.output_parsers import StrOutputParser\n",
    "from langchain.prompts import ChatPromptTemplate\n",
    "\n",
    "template = \"\"\"You are an assistant for question-answering tasks and an expert in research projects funded by the European Union under the Horizon 2020 programme.\n",
    "Use the following context from Horizon 2020 projects to answer the question. If you don't know the answer, just say that you don't know. Use three sentences maximum and keep the answer concise.\n",
    "\n",
    "Question: {question}\n",
    "\n",
    "Context: {context} \n",
    "\n",
    "Answer:\n",
    "\n",
    "\"\"\"\n",
    "prompt = ChatPromptTemplate.from_template(template)\n",
    "\n",
    "def format_docs(docs):\n",
    "    return \"\\n\\n\".join(doc.page_content for doc in docs)\n",
    "\n",
    "rag_chain = (\n",
    "    {\"context\": retriever | format_docs, \"question\": RunnablePassthrough()}\n",
    "    | prompt\n",
    "    | llm\n",
    "    | StrOutputParser()\n",
    ")"
   ]
  },
  {
   "cell_type": "code",
   "execution_count": 10,
   "id": "df2fe902-2d94-4070-8201-f3dc1739ac36",
   "metadata": {},
   "outputs": [],
   "source": [
    "query_1 = \"What is the objective of the project with grant agreement 740934?\"\n",
    "query_2 = \"What is the total cost of the project with the acronym HYPERGRYD?\"\n",
    "query_3 = \"How much funding was allocated for the project titled Transforming Research through Innovative Practices for Linked interdisciplinary Exploration?\"\n",
    "query_4 = \"Which organisation played the role of coordinator in the grant agreement 777998?\"\n",
    "query_5 = \"What topic does the project with the acronym INTERRFACE belong to?\"\n",
    "query_6 = \"What legal basis was the project titled European Joint Programme on Radioactive Waste Management framed within?\"\n",
    "query_7 = \"What type of proposal was the grant agreement 814416?\"\n",
    "query_8 = \"To which master call was the project with the acronym G9NIGHT submitted?\"\n",
    "query_9 = \"To which sub call was the project titled Electron Nanocrystallography submitted?\"\n",
    "query_10 = \"Provide the grant agreement of 1 project which objective is related to artificial intelligence.\"\n",
    "query_11 = \"Provide the acronym of 1 project which objective is related to robotics.\"\n",
    "query_12 = \"Provide the title of 1 project which objective is related to geolocation.\"\n",
    "query_13 = \"Provide the objective of 1 project related to digital twin.\"\n",
    "query_14 = \"Provide the objective of 3 different projects related to corrosion.\"\n",
    "query_15 = \"Provide the title of 3 different projects which objective is related to offshore structures.\"\n",
    "query_16 = \"Provide the acronym of 3 different projects which objective is related to materials engineering.\"\n",
    "query_17 = \"Provide the grant agreement of 3 different projects which objective is related to nanocomposites.\"\n",
    "query_18 = \"Provide the name of an organisation that has participated in projects which objective is related to artificial intelligence.\"\n",
    "query_19 = \"Provide the name of an organisation which activity type is PRC and that has participated in projects which objective is related to robotics.\"\n",
    "query_20 = \"Provide the PIC of an organisation that is a small or medium enterprise and has participated in projects which objective is related to geolocation.\"\n",
    "query_21 = \"Provide the name of an organisation that has played the role of coordinator in projects which objective is related to digital twin.\"\n",
    "query_22 = \"Provide the PIC of a Spanish organisation that has participated in projects which objective is related to corrosion.\"\n",
    "query_23 = \"Provide the name of an european organisation that has participated in projects which objective is related to offshore structures.\"\n",
    "query_24 = \"Provide the PIC of an european small or medium enterprise that has participated in projects which objective is related to materials engineering.\"\n",
    "query_25 = \"Provide the name of an european small or medium enterprise that has played the role of coordinator in projects which objective is related to nanocomposites.\""
   ]
  },
  {
   "cell_type": "markdown",
   "id": "267ab166-3356-4475-8ab1-82a622b56135",
   "metadata": {},
   "source": [
    "### Factuales"
   ]
  },
  {
   "cell_type": "code",
   "execution_count": 11,
   "id": "aaa586c3-0bf4-4eda-82d2-4273eba1b69c",
   "metadata": {},
   "outputs": [
    {
     "name": "stderr",
     "output_type": "stream",
     "text": [
      "C:\\Users\\emolt\\AppData\\Local\\Temp\\ipykernel_3604\\75204582.py:1: LangChainDeprecationWarning: The method `BaseRetriever.get_relevant_documents` was deprecated in langchain-core 0.1.46 and will be removed in 1.0. Use :meth:`~invoke` instead.\n",
      "  retrieved_docs_1 = retriever.get_relevant_documents(query_1)\n"
     ]
    },
    {
     "data": {
      "text/plain": [
       "\"I don't have information on a specific Horizon 2020 project with grant agreement 740934. Without more context or details, I'm unable to provide an accurate answer regarding its objectives. If you could provide more information about the project, I'd be happy to try and assist further.\""
      ]
     },
     "execution_count": 11,
     "metadata": {},
     "output_type": "execute_result"
    }
   ],
   "source": [
    "retrieved_docs_1 = retriever.get_relevant_documents(query_1)\n",
    "answer_1 = rag_chain.invoke(query_1) #\"What is the objective of the project with grant agreement 740934?\"\n",
    "answer_1"
   ]
  },
  {
   "cell_type": "markdown",
   "id": "bd2d5e9f-6f46-48cc-a715-4b75bc43a879",
   "metadata": {},
   "source": [
    "ES CORRECTAAA!"
   ]
  },
  {
   "cell_type": "code",
   "execution_count": null,
   "id": "b071fb99-fd60-4eb8-a405-3e347d4d676b",
   "metadata": {},
   "outputs": [],
   "source": []
  },
  {
   "cell_type": "code",
   "execution_count": 12,
   "id": "2426e9f1-5bec-4262-ad4e-56645e57236b",
   "metadata": {},
   "outputs": [
    {
     "data": {
      "text/plain": [
       "\"I don't have information on a Horizon 2020 project with the acronym HYPERGRYD, including its total cost. I couldn't find any relevant data in my knowledge base. If you need more specific information, please provide more context or details about the project.\""
      ]
     },
     "execution_count": 12,
     "metadata": {},
     "output_type": "execute_result"
    }
   ],
   "source": [
    "retrieved_docs_2 = retriever.get_relevant_documents(query_2)\n",
    "answer_2 = rag_chain.invoke(query_2) #\"What is the total cost of the project with the acronym HYPERGRYD?\"\n",
    "answer_2"
   ]
  },
  {
   "cell_type": "markdown",
   "id": "78ce7fe2-49b8-4d53-85ca-e7694f16228a",
   "metadata": {},
   "source": [
    "NO DA RESPUESTA"
   ]
  },
  {
   "cell_type": "code",
   "execution_count": null,
   "id": "44b67e69-ccbf-419c-a266-96330bbd3709",
   "metadata": {},
   "outputs": [],
   "source": []
  },
  {
   "cell_type": "code",
   "execution_count": 13,
   "id": "d00b4e3e-967f-47a4-94e2-e31a8d2731ee",
   "metadata": {},
   "outputs": [
    {
     "data": {
      "text/plain": [
       "'I couldn\\'t find any information on a Horizon 2020 project with the title \"Transforming Research through Innovative Practices for Linked interdisciplinary Exploration\". I don\\'t know the specific funding allocation for this project. If you have more context or details, I may be able to help further.'"
      ]
     },
     "execution_count": 13,
     "metadata": {},
     "output_type": "execute_result"
    }
   ],
   "source": [
    "retrieved_docs_3 = retriever.get_relevant_documents(query_3)\n",
    "answer_3 = rag_chain.invoke(query_3) #\"How much funding was allocated for the project titled Transforming Research through Innovative Practices for Linked interdisciplinary Exploration?\"\n",
    "answer_3"
   ]
  },
  {
   "cell_type": "markdown",
   "id": "d77e33a7-c3c8-4065-be17-242afe5fa3e7",
   "metadata": {},
   "source": [
    "INCORRECTA"
   ]
  },
  {
   "cell_type": "code",
   "execution_count": null,
   "id": "bca66b17-44af-40a8-85d1-7249100db126",
   "metadata": {},
   "outputs": [],
   "source": []
  },
  {
   "cell_type": "code",
   "execution_count": 14,
   "id": "e93c4506-25b1-4a6e-ab89-a8d4ddeeca3b",
   "metadata": {},
   "outputs": [
    {
     "data": {
      "text/plain": [
       "\"I don't have information on the specific Horizon 2020 project with grant agreement 777998, including the organization that played the role of coordinator. I can try to search for more information or provide general information on Horizon 2020 projects if needed. If you have any additional context or details about the project, I may be able to help further.\""
      ]
     },
     "execution_count": 14,
     "metadata": {},
     "output_type": "execute_result"
    }
   ],
   "source": [
    "retrieved_docs_4 = retriever.get_relevant_documents(query_4)\n",
    "answer_4 = rag_chain.invoke(query_4) # \"Which organisation played the role of coordinator in the grant agreement 777998?\"\n",
    "answer_4"
   ]
  },
  {
   "cell_type": "markdown",
   "id": "a476a2e9-1aaf-49b6-af0a-2ffb176d9e00",
   "metadata": {},
   "source": [
    "NO DA RESPUESTA"
   ]
  },
  {
   "cell_type": "code",
   "execution_count": null,
   "id": "f5a492f9-588a-4135-a2f0-f211d2644b0d",
   "metadata": {},
   "outputs": [],
   "source": []
  },
  {
   "cell_type": "code",
   "execution_count": 15,
   "id": "58a199b3-0df6-4220-a824-71f4e43860fe",
   "metadata": {},
   "outputs": [
    {
     "data": {
      "text/plain": [
       "\"I don't know the specific topic of the Horizon 2020 project with the acronym INTERRFACE. However, I can suggest that it might be related to a research project in the field of environmental or social sciences. If you need more information, please provide more context or details about the project.\""
      ]
     },
     "execution_count": 15,
     "metadata": {},
     "output_type": "execute_result"
    }
   ],
   "source": [
    "retrieved_docs_5 = retriever.get_relevant_documents(query_5)\n",
    "answer_5 = rag_chain.invoke(query_5) # \"What topic does the project with the acronym INTERRFACE belong to?\"\n",
    "answer_5"
   ]
  },
  {
   "cell_type": "markdown",
   "id": "e2a859be-2b49-4ded-8ea5-1bd8a890842a",
   "metadata": {},
   "source": [
    "NO DA RESPUESTA"
   ]
  },
  {
   "cell_type": "code",
   "execution_count": null,
   "id": "01a57f29-313c-441b-8ba4-78fe69abc80e",
   "metadata": {},
   "outputs": [],
   "source": []
  },
  {
   "cell_type": "code",
   "execution_count": 16,
   "id": "f760b70b-f068-461f-a768-593ffc28c13f",
   "metadata": {},
   "outputs": [
    {
     "data": {
      "text/plain": [
       "'I\\'m not aware of any specific information about a Horizon 2020 project titled \"European Joint Programme on Radioactive Waste Management\". However, I can suggest that it\\'s possible that this project was framed under the Interregional Cooperation (I) legal basis. If you need more information, please provide more context or clarify which project you are referring to.'"
      ]
     },
     "execution_count": 16,
     "metadata": {},
     "output_type": "execute_result"
    }
   ],
   "source": [
    "retrieved_docs_6 = retriever.get_relevant_documents(query_6)\n",
    "answer_6 = rag_chain.invoke(query_6) # \"What legal basis was the project titled European Joint Programme on Radioactive Waste Management framed within?\"\n",
    "answer_6"
   ]
  },
  {
   "cell_type": "markdown",
   "id": "30df4457-b88e-45c0-9c9d-d16ff9229c69",
   "metadata": {},
   "source": [
    "CORRECTA"
   ]
  },
  {
   "cell_type": "code",
   "execution_count": null,
   "id": "8e2933db-9f29-4c12-be65-49443d730992",
   "metadata": {},
   "outputs": [],
   "source": []
  },
  {
   "cell_type": "code",
   "execution_count": 17,
   "id": "82a3b2b1-92bc-4d81-9336-87ba66dde6f7",
   "metadata": {},
   "outputs": [
    {
     "data": {
      "text/plain": [
       "\"I don't have information on a specific Horizon 2020 project with grant agreement number 814416. I can try to search for more context or details if you provide it. Alternatively, I can suggest checking the EU's Horizon 2020 database or contacting the European Commission directly for more information.\""
      ]
     },
     "execution_count": 17,
     "metadata": {},
     "output_type": "execute_result"
    }
   ],
   "source": [
    "retrieved_docs_7 = retriever.get_relevant_documents(query_7)\n",
    "answer_7 = rag_chain.invoke(query_7) # \"What type of proposal was the grant agreement 814416?\"\n",
    "answer_7"
   ]
  },
  {
   "cell_type": "markdown",
   "id": "0df78df1-af6b-4f38-908b-05195edf37d9",
   "metadata": {},
   "source": [
    "NO DA RESPUESTA"
   ]
  },
  {
   "cell_type": "code",
   "execution_count": null,
   "id": "9b23d590-c255-4526-917f-ce8d2810a626",
   "metadata": {},
   "outputs": [],
   "source": []
  },
  {
   "cell_type": "code",
   "execution_count": 18,
   "id": "95fcc380-36cd-4658-96aa-cb892ed2631e",
   "metadata": {},
   "outputs": [
    {
     "data": {
      "text/plain": [
       "'I don\\'t know the specific master call to which the Horizon 2020 project \"G9NIGHT\" was submitted. However, I can suggest checking the official EU Horizon 2020 website or the project\\'s documentation for more information. If you need further assistance, please provide more context or details about the project.'"
      ]
     },
     "execution_count": 18,
     "metadata": {},
     "output_type": "execute_result"
    }
   ],
   "source": [
    "retrieved_docs_8 = retriever.get_relevant_documents(query_8)\n",
    "answer_8 = rag_chain.invoke(query_8) # \"To which master call was the project with the acronym G9NIGHT submitted?\"\n",
    "answer_8"
   ]
  },
  {
   "cell_type": "markdown",
   "id": "084107cd-47d5-4e2e-8ff2-834f5f7367db",
   "metadata": {},
   "source": [
    "NO DA RESPUESTA"
   ]
  },
  {
   "cell_type": "code",
   "execution_count": null,
   "id": "f4c92a93-1869-4989-a8a6-c134ed3db889",
   "metadata": {},
   "outputs": [],
   "source": []
  },
  {
   "cell_type": "code",
   "execution_count": 19,
   "id": "d6b8e30d-2701-4afb-a011-9b11e6759ac8",
   "metadata": {},
   "outputs": [
    {
     "data": {
      "text/plain": [
       "'I don\\'t know the specific sub-call to which the project \"Electron Nanocrystallography\" was submitted. However, I can suggest checking the official Horizon 2020 project database or contacting the European Commission for more information. The project\\'s details might be available on the EU Research & Innovation website.'"
      ]
     },
     "execution_count": 19,
     "metadata": {},
     "output_type": "execute_result"
    }
   ],
   "source": [
    "retrieved_docs_9 = retriever.get_relevant_documents(query_9)\n",
    "answer_9 = rag_chain.invoke(query_9) # \"To which sub call was the project titled Electron Nanocrystallography submitted?\"\n",
    "answer_9"
   ]
  },
  {
   "cell_type": "markdown",
   "id": "f36fcc96-e059-4d6a-9b4a-75c0a063cd54",
   "metadata": {},
   "source": [
    "CORRECTA"
   ]
  },
  {
   "cell_type": "code",
   "execution_count": null,
   "id": "cf85a48e-820d-4f27-83e9-af0ed12a0f25",
   "metadata": {},
   "outputs": [],
   "source": []
  },
  {
   "cell_type": "markdown",
   "id": "7e69b2d1-1a68-4cdb-9c36-9197e6c92d85",
   "metadata": {},
   "source": [
    "### Sobre proyectos y temáticas"
   ]
  },
  {
   "cell_type": "code",
   "execution_count": 20,
   "id": "7e4b6954-b6c2-4a15-bac3-33f47641327b",
   "metadata": {},
   "outputs": [
    {
     "data": {
      "text/plain": [
       "\"I'm not aware of a specific Horizon 2020 project with a grant agreement available for public access. However, I can suggest that you check the EU's Horizon 2020 database or contact the European Commission directly for more information on AI-related projects. If you provide more context or details about the objective, I may be able to help further.\""
      ]
     },
     "execution_count": 20,
     "metadata": {},
     "output_type": "execute_result"
    }
   ],
   "source": [
    "retrieved_docs_10 = retriever.get_relevant_documents(query_10)\n",
    "answer_10 = rag_chain.invoke(query_10) # \"Provide the grant agreement of 1 project which objective is related to artificial intelligence.\"\n",
    "answer_10"
   ]
  },
  {
   "cell_type": "markdown",
   "id": "a0343eed-5ecb-4404-bf8e-4f6d2fdb3752",
   "metadata": {},
   "source": [
    "CORRECTA COMPLETAMENTE"
   ]
  },
  {
   "cell_type": "code",
   "execution_count": null,
   "id": "57ebddf6-6c7a-4ebc-af92-126bbb64a344",
   "metadata": {},
   "outputs": [],
   "source": []
  },
  {
   "cell_type": "code",
   "execution_count": 26,
   "id": "d7a7d711-674a-49f2-8bc5-113ad92b2699",
   "metadata": {},
   "outputs": [
    {
     "data": {
      "text/plain": [
       "'I\\'m not aware of a specific Horizon 2020 project with an objective directly related to robotics. However, I can suggest that you look into the \"Robotics for Energy and Environmental Sustainability\" (ROB-4-EES) project, which is part of the Horizon 2020 programme.'"
      ]
     },
     "execution_count": 26,
     "metadata": {},
     "output_type": "execute_result"
    }
   ],
   "source": [
    "retrieved_docs_11 = retriever.get_relevant_documents(query_11)\n",
    "answer_11 = rag_chain.invoke(query_11) # \"Provide the acronym of 1 project which objective is related to robotics.\"\n",
    "answer_11"
   ]
  },
  {
   "cell_type": "markdown",
   "id": "d23a8032-c6b0-4e29-bea9-2dd6cfeeebc9",
   "metadata": {},
   "source": [
    "CORRECTA"
   ]
  },
  {
   "cell_type": "code",
   "execution_count": null,
   "id": "fce466dd-0f0b-4574-a5f8-00fcfe0d6fea",
   "metadata": {},
   "outputs": [],
   "source": []
  },
  {
   "cell_type": "code",
   "execution_count": 36,
   "id": "96e6487e-bb1a-4465-a357-a03a82b3f080",
   "metadata": {},
   "outputs": [
    {
     "data": {
      "text/plain": [
       "'I\\'m not aware of a specific Horizon 2020 project with an objective directly related to geolocation. However, I can suggest that you check the EU\\'s Horizon 2020 database for projects under the \"Geospatial\" or \"Location-based Services\" theme. If you need more information, please provide more context or details about the type of geolocation-related objective you\\'re looking for.'"
      ]
     },
     "execution_count": 36,
     "metadata": {},
     "output_type": "execute_result"
    }
   ],
   "source": [
    "retrieved_docs_12 = retriever.get_relevant_documents(query_12)\n",
    "answer_12 = rag_chain.invoke(query_12) # \"Provide the title of 1 project which objective is related to geolocation.\"\n",
    "answer_12"
   ]
  },
  {
   "cell_type": "markdown",
   "id": "1829e8f6-dde7-4ae4-8f5c-aad876dcd6c9",
   "metadata": {},
   "source": [
    "CORRECTA ENTERA"
   ]
  },
  {
   "cell_type": "code",
   "execution_count": null,
   "id": "63f41f5d-91b5-45fd-a223-eb392c8e64dd",
   "metadata": {},
   "outputs": [],
   "source": []
  },
  {
   "cell_type": "code",
   "execution_count": 37,
   "id": "3e06fb1d-ae73-4df3-833e-c23aa8e64785",
   "metadata": {},
   "outputs": [
    {
     "data": {
      "text/plain": [
       "'I\\'m not aware of a specific Horizon 2020 project directly related to digital twin objectives. However, I can suggest that the \"Digital Twin for Industry\" project (H2020-ICT-2016-2) aimed to develop and demonstrate digital twins in various industries such as manufacturing, energy, and transportation. The project\\'s objective was to create a common framework for the development of digital twins across different sectors.'"
      ]
     },
     "execution_count": 37,
     "metadata": {},
     "output_type": "execute_result"
    }
   ],
   "source": [
    "retrieved_docs_13 = retriever.get_relevant_documents(query_13)\n",
    "answer_13 = rag_chain.invoke(query_13) # \"Provide the objective of 1 project related to digital twin.\"\n",
    "answer_13"
   ]
  },
  {
   "cell_type": "markdown",
   "id": "97c11d18-9ebc-4ed5-9fbb-e56c5b730795",
   "metadata": {},
   "source": [
    "NO ES CORRECTA, EL ACRONIMO LLEVA TWIN PERO NO DESCRIBE UN DIGITAL TWIN SINO QUE el El objetivo principal mencionado es aumentar la capacidad de investigación del NVRI en colaboración con instituciones de Alemania y Dinamarca, enfocándose en enfermedades infecciosas animales, zoonosis y seguridad alimentaria"
   ]
  },
  {
   "cell_type": "code",
   "execution_count": null,
   "id": "ecfb8f2f-1abc-4a43-b652-95dd6c816a1b",
   "metadata": {},
   "outputs": [],
   "source": []
  },
  {
   "cell_type": "code",
   "execution_count": 39,
   "id": "b59da5af-cf3a-42dd-868f-ec171d742ef6",
   "metadata": {},
   "outputs": [
    {
     "data": {
      "text/plain": [
       "'I can provide information on Horizon 2020 projects related to corrosion. \\n\\n1. The project \"CORROD\" aimed to develop new methods for predicting and preventing corrosion in industrial applications, focusing on advanced materials and coatings.\\n2. The project \"CORROTECT\" focused on developing novel protective coatings for steel structures exposed to corrosive environments, with a focus on sustainability and environmental impact.\\n3. I don\\'t know the specific objective of the third Horizon 2020 project related to corrosion.'"
      ]
     },
     "execution_count": 39,
     "metadata": {},
     "output_type": "execute_result"
    }
   ],
   "source": [
    "retrieved_docs_14 = retriever.get_relevant_documents(query_14)\n",
    "answer_14 = rag_chain.invoke(query_14) # \"Provide the objective of 3 different projects related to corrosion.\"\n",
    "answer_14"
   ]
  },
  {
   "cell_type": "markdown",
   "id": "69a73d34-2fc9-4417-b85e-d42e08f94261",
   "metadata": {},
   "source": [
    "TODA LA INFORMACIÓN ES CORRECTA"
   ]
  },
  {
   "cell_type": "code",
   "execution_count": null,
   "id": "f585465b-6120-46ad-9662-1e48c260fc19",
   "metadata": {},
   "outputs": [],
   "source": []
  },
  {
   "cell_type": "code",
   "execution_count": 40,
   "id": "82c8b282-68ef-4f59-9c9b-8be9cb402cd5",
   "metadata": {},
   "outputs": [
    {
     "data": {
      "text/plain": [
       "'I can provide some examples of Horizon 2020 projects with objectives related to offshore structures. Three such projects are:\\n\\n1. \"OceanGate\" - a project focused on developing and demonstrating new technologies for the construction, installation, and maintenance of offshore wind farms.\\n2. \"DeepSeaNet\" - a project aimed at improving the design, construction, and operation of deepwater offshore platforms.\\n3. \"Offshore Renewable Energy (ORE) Demonstrator\" - a project that focuses on the development and demonstration of new technologies for the production, transmission, and distribution of renewable energy from offshore wind farms.\\n\\nPlease note that I may not have exhaustive information on all Horizon 2020 projects, but these are some examples related to offshore structures.'"
      ]
     },
     "execution_count": 40,
     "metadata": {},
     "output_type": "execute_result"
    }
   ],
   "source": [
    "retrieved_docs_15 = retriever.get_relevant_documents(query_15)\n",
    "answer_15 = rag_chain.invoke(query_15) # \"Provide the title of 3 different projects which objective is related to offshore structures.\"\n",
    "answer_15"
   ]
  },
  {
   "cell_type": "markdown",
   "id": "604c94b5-89cd-43d2-9938-ae6e8cc2eb14",
   "metadata": {},
   "source": [
    "CORRECTA TOTALMENTE AUNQUE NO DA LOS TITULOS, QUE ES LO QUE SE PIDE"
   ]
  },
  {
   "cell_type": "code",
   "execution_count": null,
   "id": "fa8ab9d8-ceea-492e-8135-bb0d15379f13",
   "metadata": {},
   "outputs": [],
   "source": []
  },
  {
   "cell_type": "code",
   "execution_count": 41,
   "id": "f207dee0-6db3-4735-9771-3671557777cb",
   "metadata": {},
   "outputs": [
    {
     "data": {
      "text/plain": [
       "'I can provide some examples of Horizon 2020 projects related to materials engineering. Three such projects are:\\n\\n1. NMP-01-2017-NMP31-0374 - \"NanoMaterials for Energy Applications\"\\n2. FETOPEN-03-2018-010956 - \"Graphene and 2D Materials for Energy Storage and Conversion\"\\n3. SUSTAIN-04-2015-028911 - \"Sustainable materials and technologies for the circular economy\"\\n\\nPlease note that I may not have information on all Horizon 2020 projects, especially those with limited or no publicly available information.'"
      ]
     },
     "execution_count": 41,
     "metadata": {},
     "output_type": "execute_result"
    }
   ],
   "source": [
    "retrieved_docs_16 = retriever.get_relevant_documents(query_16)\n",
    "answer_16 = rag_chain.invoke(query_16) # \"Provide the acronym of 3 different projects which objective is related to materials engineering.\"\n",
    "answer_16"
   ]
  },
  {
   "cell_type": "markdown",
   "id": "6fef99f7-050d-4b0e-8a48-09448dc3e85e",
   "metadata": {},
   "source": [
    "CORRECTA TOTALMENTE"
   ]
  },
  {
   "cell_type": "code",
   "execution_count": null,
   "id": "2296911d-046c-4a6f-bab6-37c93ebf49e4",
   "metadata": {},
   "outputs": [],
   "source": []
  },
  {
   "cell_type": "code",
   "execution_count": 42,
   "id": "890737d9-9b12-449e-a828-a3651e43bae9",
   "metadata": {},
   "outputs": [
    {
     "data": {
      "text/plain": [
       "'I don\\'t have access to specific grant agreements for individual Horizon 2020 projects. However, I can provide general information on some EU-funded projects that focus on nanocomposites.\\n\\n1. Project: \"NanoComposites\" (Grant Agreement No.: 289334) - This project aimed to develop new nanocomposite materials with improved mechanical and thermal properties.\\n2. Project: \"NANOCOMPOSITES FOR ENERGY APPLICATIONS\" (Grant Agreement No.: 764372) - This project focused on the development of nanocomposite materials for energy-related applications, such as solar cells and fuel cells.\\n3. Project: \"NanoComposites for Advanced Biomaterials\" (Grant Agreement No.: 777747) - This project explored the use of nanocomposites in advanced biomaterials for medical and dental applications.\\n\\nPlease note that I don\\'t have direct access to the grant agreements, and this information is based on publicly available general information.'"
      ]
     },
     "execution_count": 42,
     "metadata": {},
     "output_type": "execute_result"
    }
   ],
   "source": [
    "retrieved_docs_17 = retriever.get_relevant_documents(query_17)\n",
    "answer_17 = rag_chain.invoke(query_17) # \"Provide the grant agreement of 3 different projects which objective is related to nanocomposites.\"\n",
    "answer_17"
   ]
  },
  {
   "cell_type": "markdown",
   "id": "b09b0208-65ef-4061-9cd2-8993ecf60724",
   "metadata": {},
   "source": [
    "TODO ES CORRECTO, SALVO EL TITULO DEL SEGUNDO PROYECTO, que en vez del titulo es una descripcion del proyecto"
   ]
  },
  {
   "cell_type": "code",
   "execution_count": null,
   "id": "de707860-755a-48eb-9de6-6e75efcdf200",
   "metadata": {},
   "outputs": [],
   "source": []
  },
  {
   "cell_type": "markdown",
   "id": "cd6bae7e-b660-4ad0-88b0-65be47d385da",
   "metadata": {},
   "source": [
    "### Preguntas sobre socios"
   ]
  },
  {
   "cell_type": "code",
   "execution_count": 43,
   "id": "b7e75f56-bd84-48ce-a1af-87b92ebf7efb",
   "metadata": {},
   "outputs": [
    {
     "data": {
      "text/plain": [
       "'I can provide information on Horizon 2020 projects related to artificial intelligence. One example is the project \"Human Brain Project\" (HBP), which aimed to develop a computational model of the human brain and its functions, with applications in AI and neuroscience. Another example is the project \"AI for Robotics\" (AI4ROB), which focused on developing AI technologies for robotics and automation.'"
      ]
     },
     "execution_count": 43,
     "metadata": {},
     "output_type": "execute_result"
    }
   ],
   "source": [
    "retrieved_docs_18 = retriever.get_relevant_documents(query_18)\n",
    "answer_18 = rag_chain.invoke(query_18) # \"Provide the name of an organisation that has participated in projects which objective is related to artificial intelligence.\"\n",
    "answer_18"
   ]
  },
  {
   "cell_type": "markdown",
   "id": "4b77d41e-b80f-4f81-a61d-603b303d30e4",
   "metadata": {},
   "source": [
    "COMPROBAR SI ES CORRECTA, ESTA EMPRESA HA PARTICIPADO EN: 871177 y 952176"
   ]
  },
  {
   "cell_type": "code",
   "execution_count": null,
   "id": "49eb5799-56e9-4efd-bebd-e3636df29466",
   "metadata": {},
   "outputs": [],
   "source": []
  },
  {
   "cell_type": "code",
   "execution_count": 44,
   "id": "807a03df-fcef-4149-a666-53a9e87fb4f1",
   "metadata": {},
   "outputs": [
    {
     "data": {
      "text/plain": [
       "'I\\'m not aware of a specific organisation with activity type PRC (Pre-Commercial Procurement) that has participated in Horizon 2020 projects related to robotics. However, I can suggest some EU-funded projects that involve robotics and PRC, such as the \"Robotics for Energy Access\" project or the \"Smart Robotics for Industry 4.0\" project. If you need more information, please provide more context or details.'"
      ]
     },
     "execution_count": 44,
     "metadata": {},
     "output_type": "execute_result"
    }
   ],
   "source": [
    "retrieved_docs_19 = retriever.get_relevant_documents(query_19)\n",
    "answer_19 = rag_chain.invoke(query_19) # \"Provide the name of an organisation which activity type is PRC and that has participated in projects which objective is related to robotics.\"\n",
    "answer_19"
   ]
  },
  {
   "cell_type": "markdown",
   "id": "7d148409-05da-4315-9aa2-6cbe37c4a532",
   "metadata": {},
   "source": [
    "TODAS SON PRC, CHECKEAR TEMATICA, AUNQUE PARECE QUE ESTA BIEN"
   ]
  },
  {
   "cell_type": "code",
   "execution_count": null,
   "id": "0155cf00-19b1-4a26-a483-f5b5e17a85af",
   "metadata": {},
   "outputs": [],
   "source": []
  },
  {
   "cell_type": "code",
   "execution_count": 45,
   "id": "c2169655-e2aa-49a2-99c1-d108fa1b8a19",
   "metadata": {},
   "outputs": [
    {
     "data": {
      "text/plain": [
       "\"I'm not able to provide specific information on individual organisations, but I can tell you that several SMEs have participated in Horizon 2020 projects focused on geolocation. For example, companies like Garmin, u-blox, and Trimble have been involved in projects related to geospatial technologies and location-based services. If you need more specific information, please let me know and I'll try to help further.\""
      ]
     },
     "execution_count": 45,
     "metadata": {},
     "output_type": "execute_result"
    }
   ],
   "source": [
    "retrieved_docs_20 = retriever.get_relevant_documents(query_20)\n",
    "answer_20 = rag_chain.invoke(query_20) # \"Provide the PIC of an organisation that is a small or medium enterprise and has participated in projects which objective is related to geolocation.\"\n",
    "answer_20"
   ]
  },
  {
   "cell_type": "markdown",
   "id": "3b92681e-59d0-4df3-8b92-3235bc7adcdf",
   "metadata": {},
   "source": [
    "PIC, NOMBRE Y SME CORRECTO. CHECKEAR TEMATICA AUNQUE PARECE CORRECTO"
   ]
  },
  {
   "cell_type": "code",
   "execution_count": null,
   "id": "b868ff2b-2ed2-4fd4-879e-239324dc1c0c",
   "metadata": {},
   "outputs": [],
   "source": []
  },
  {
   "cell_type": "code",
   "execution_count": 46,
   "id": "3efa551a-d04e-44c6-833b-7806d3b70a66",
   "metadata": {},
   "outputs": [
    {
     "data": {
      "text/plain": [
       "\"I'm not aware of a specific EU Horizon 2020 project with a direct connection to digital twins. However, I can suggest that the European Union's Digital Single Market (DSM) initiative has funded several projects related to Industry 4.0 and digitalization, which may include aspects of digital twin technology. If you're looking for more information, I recommend searching the EU Horizon 2020 project database or contacting a relevant EU agency directly.\""
      ]
     },
     "execution_count": 46,
     "metadata": {},
     "output_type": "execute_result"
    }
   ],
   "source": [
    "retrieved_docs_21 = retriever.get_relevant_documents(query_21)\n",
    "answer_21 = rag_chain.invoke(query_21) # \"Provide the name of an organisation that has played the role of coordinator in projects which objective is related to digital twin.\"\n",
    "answer_21"
   ]
  },
  {
   "cell_type": "markdown",
   "id": "8c813c22-e396-4212-9424-b83c91d279a2",
   "metadata": {},
   "source": [
    "CHECKEAR"
   ]
  },
  {
   "cell_type": "code",
   "execution_count": null,
   "id": "47d3ffe6-5f87-4a07-bbee-5cd2e5a31110",
   "metadata": {},
   "outputs": [],
   "source": []
  },
  {
   "cell_type": "code",
   "execution_count": 47,
   "id": "64532ea0-85d0-4abe-aa1a-e72789a911b5",
   "metadata": {},
   "outputs": [
    {
     "data": {
      "text/plain": [
       "\"I don't have information on specific organisations participating in Horizon 2020 projects related to corrosion. However, I can suggest some ways for you to find the required information. You can search the EU's Horizon 2020 database or contact the European Commission directly for more details.\""
      ]
     },
     "execution_count": 47,
     "metadata": {},
     "output_type": "execute_result"
    }
   ],
   "source": [
    "retrieved_docs_22 = retriever.get_relevant_documents(query_22)\n",
    "answer_22 = rag_chain.invoke(query_22)\n",
    "answer_22 # \"Provide the PIC of a Spanish organisation that has participated in projects which objective is related to corrosion.\""
   ]
  },
  {
   "cell_type": "markdown",
   "id": "0f871ea7-9c50-489c-b605-1dd5d7cda6dc",
   "metadata": {},
   "source": [
    "LA INFORMACION ES CORRECTA, CHEKCERA LA TEMATICA DE SUS PROYECTOS"
   ]
  },
  {
   "cell_type": "code",
   "execution_count": null,
   "id": "28aed452-0c5d-4c5d-86c6-2e8f5f5008dd",
   "metadata": {},
   "outputs": [],
   "source": []
  },
  {
   "cell_type": "code",
   "execution_count": 48,
   "id": "16000fbc-3b63-49fd-8c8c-cf8e08eed24d",
   "metadata": {},
   "outputs": [
    {
     "data": {
      "text/plain": [
       "\"I'm not aware of a specific European organization that has participated in Horizon 2020 projects with an objective directly related to offshore structures. However, I can suggest some organizations that have been involved in marine-related projects under Horizon 2020, such as the European Marine Observation Network (EMONET) or the Ocean Observatories Initiative (OOI). If you need more information, please provide more context or clarify your question.\""
      ]
     },
     "execution_count": 48,
     "metadata": {},
     "output_type": "execute_result"
    }
   ],
   "source": [
    "retrieved_docs_23 = retriever.get_relevant_documents(query_23)\n",
    "answer_23 = rag_chain.invoke(query_23)\n",
    "answer_23 # \"Provide the name of an european organisation that has participated in projects which objective is related to offshore structures.\""
   ]
  },
  {
   "cell_type": "markdown",
   "id": "f100d64e-a5c6-4206-bd63-6fbf40d0815f",
   "metadata": {},
   "source": [
    "NO DA RESPUESTA"
   ]
  },
  {
   "cell_type": "code",
   "execution_count": null,
   "id": "b4c07cca-340d-44af-a4e0-49a9c51077a6",
   "metadata": {},
   "outputs": [],
   "source": []
  },
  {
   "cell_type": "code",
   "execution_count": 49,
   "id": "99c91e04-505c-4338-acf8-aab379e5020c",
   "metadata": {},
   "outputs": [
    {
     "data": {
      "text/plain": [
       "\"I don't have access to real-time information on specific European SMEs participating in Horizon 2020 projects. However, I can suggest some general resources where you may be able to find the information you're looking for, such as the EU's Horizon 2020 website or the Enterprise Europe Network. If you provide more context or details, I'd be happy to try and assist you further.\""
      ]
     },
     "execution_count": 49,
     "metadata": {},
     "output_type": "execute_result"
    }
   ],
   "source": [
    "retrieved_docs_24 = retriever.get_relevant_documents(query_24)\n",
    "answer_24 = rag_chain.invoke(query_24)\n",
    "answer_24 # \"Provide the PIC of an european small or medium enterprise that has participated in projects which objective is related to materials engineering.\""
   ]
  },
  {
   "cell_type": "markdown",
   "id": "efc2fe55-d1d7-47da-ae43-4c150bffbd1c",
   "metadata": {},
   "source": [
    "TOTALMENTE CORRECTA"
   ]
  },
  {
   "cell_type": "code",
   "execution_count": null,
   "id": "c97fdadd-a87f-486c-b569-e372de86c850",
   "metadata": {},
   "outputs": [],
   "source": []
  },
  {
   "cell_type": "code",
   "execution_count": 50,
   "id": "6115f67d-6800-45e1-a3c9-8978f81ffe91",
   "metadata": {},
   "outputs": [
    {
     "data": {
      "text/plain": [
       "'I\\'m not aware of a specific European SME that has played the role of coordinator in Horizon 2020 projects focused on nanocomposites. However, I can suggest some EU-funded projects that involve nanocomposites, such as \"Nanomaterials for Energy Storage\" or \"NanoComposites for Advanced Materials\". If you need more information, please provide more context or details about the project you are looking for.'"
      ]
     },
     "execution_count": 50,
     "metadata": {},
     "output_type": "execute_result"
    }
   ],
   "source": [
    "retrieved_docs_25 = retriever.get_relevant_documents(query_25)\n",
    "answer_25 = rag_chain.invoke(query_25)\n",
    "answer_25 # \"Provide the name of an european small or medium enterprise that has played the role of coordinator in projects which objective is related to nanocomposites.\""
   ]
  },
  {
   "cell_type": "markdown",
   "id": "e0e6d0f6-a867-4fcc-919b-4a57a94596b5",
   "metadata": {},
   "source": [
    "NO DA RESPUESTA"
   ]
  },
  {
   "cell_type": "code",
   "execution_count": 51,
   "id": "5e2c6fbc-7ecf-4df2-90dc-9f06f91c7584",
   "metadata": {},
   "outputs": [
    {
     "data": {
      "text/plain": [
       "0"
      ]
     },
     "execution_count": 51,
     "metadata": {},
     "output_type": "execute_result"
    }
   ],
   "source": [
    "len(retrieved_docs_25)"
   ]
  },
  {
   "cell_type": "markdown",
   "id": "82796f9f-3e4f-46ea-b36e-b85061c5a9dc",
   "metadata": {},
   "source": [
    "### Se guardan los resultados en un excel"
   ]
  },
  {
   "cell_type": "code",
   "execution_count": 33,
   "id": "2df37cb2-e938-4ab8-985d-2d6faa412d9f",
   "metadata": {},
   "outputs": [
    {
     "name": "stdout",
     "output_type": "stream",
     "text": [
      "Collecting pandas\n",
      "  Downloading pandas-2.2.3-cp310-cp310-win_amd64.whl.metadata (19 kB)\n",
      "Requirement already satisfied: numpy>=1.22.4 in c:\\users\\emolt\\anaconda3\\envs\\py310real\\lib\\site-packages (from pandas) (2.2.6)\n",
      "Requirement already satisfied: python-dateutil>=2.8.2 in c:\\users\\emolt\\anaconda3\\envs\\py310real\\lib\\site-packages (from pandas) (2.9.0.post0)\n",
      "Collecting pytz>=2020.1 (from pandas)\n",
      "  Using cached pytz-2025.2-py2.py3-none-any.whl.metadata (22 kB)\n",
      "Collecting tzdata>=2022.7 (from pandas)\n",
      "  Using cached tzdata-2025.2-py2.py3-none-any.whl.metadata (1.4 kB)\n",
      "Requirement already satisfied: six>=1.5 in c:\\users\\emolt\\anaconda3\\envs\\py310real\\lib\\site-packages (from python-dateutil>=2.8.2->pandas) (1.17.0)\n",
      "Downloading pandas-2.2.3-cp310-cp310-win_amd64.whl (11.6 MB)\n",
      "   ---------------------------------------- 0.0/11.6 MB ? eta -:--:--\n",
      "   ------------------- -------------------- 5.8/11.6 MB 29.4 MB/s eta 0:00:01\n",
      "   ---------------------------------------- 11.6/11.6 MB 29.1 MB/s eta 0:00:00\n",
      "Using cached pytz-2025.2-py2.py3-none-any.whl (509 kB)\n",
      "Using cached tzdata-2025.2-py2.py3-none-any.whl (347 kB)\n",
      "Installing collected packages: pytz, tzdata, pandas\n",
      "\n",
      "   ---------------------------------------- 0/3 [pytz]\n",
      "   ---------------------------------------- 0/3 [pytz]\n",
      "   ---------------------------------------- 0/3 [pytz]\n",
      "   ---------------------------------------- 0/3 [pytz]\n",
      "   ---------------------------------------- 0/3 [pytz]\n",
      "   ---------------------------------------- 0/3 [pytz]\n",
      "   ---------------------------------------- 0/3 [pytz]\n",
      "   ---------------------------------------- 0/3 [pytz]\n",
      "   ------------- -------------------------- 1/3 [tzdata]\n",
      "   ------------- -------------------------- 1/3 [tzdata]\n",
      "   ------------- -------------------------- 1/3 [tzdata]\n",
      "   ------------- -------------------------- 1/3 [tzdata]\n",
      "   ------------- -------------------------- 1/3 [tzdata]\n",
      "   ------------- -------------------------- 1/3 [tzdata]\n",
      "   ------------- -------------------------- 1/3 [tzdata]\n",
      "   ------------- -------------------------- 1/3 [tzdata]\n",
      "   -------------------------- ------------- 2/3 [pandas]\n",
      "   -------------------------- ------------- 2/3 [pandas]\n",
      "   -------------------------- ------------- 2/3 [pandas]\n",
      "   -------------------------- ------------- 2/3 [pandas]\n",
      "   -------------------------- ------------- 2/3 [pandas]\n",
      "   -------------------------- ------------- 2/3 [pandas]\n",
      "   -------------------------- ------------- 2/3 [pandas]\n",
      "   -------------------------- ------------- 2/3 [pandas]\n",
      "   -------------------------- ------------- 2/3 [pandas]\n",
      "   -------------------------- ------------- 2/3 [pandas]\n",
      "   -------------------------- ------------- 2/3 [pandas]\n",
      "   -------------------------- ------------- 2/3 [pandas]\n",
      "   -------------------------- ------------- 2/3 [pandas]\n",
      "   -------------------------- ------------- 2/3 [pandas]\n",
      "   -------------------------- ------------- 2/3 [pandas]\n",
      "   -------------------------- ------------- 2/3 [pandas]\n",
      "   -------------------------- ------------- 2/3 [pandas]\n",
      "   -------------------------- ------------- 2/3 [pandas]\n",
      "   -------------------------- ------------- 2/3 [pandas]\n",
      "   -------------------------- ------------- 2/3 [pandas]\n",
      "   -------------------------- ------------- 2/3 [pandas]\n",
      "   -------------------------- ------------- 2/3 [pandas]\n",
      "   -------------------------- ------------- 2/3 [pandas]\n",
      "   -------------------------- ------------- 2/3 [pandas]\n",
      "   -------------------------- ------------- 2/3 [pandas]\n",
      "   -------------------------- ------------- 2/3 [pandas]\n",
      "   -------------------------- ------------- 2/3 [pandas]\n",
      "   -------------------------- ------------- 2/3 [pandas]\n",
      "   -------------------------- ------------- 2/3 [pandas]\n",
      "   -------------------------- ------------- 2/3 [pandas]\n",
      "   -------------------------- ------------- 2/3 [pandas]\n",
      "   -------------------------- ------------- 2/3 [pandas]\n",
      "   -------------------------- ------------- 2/3 [pandas]\n",
      "   -------------------------- ------------- 2/3 [pandas]\n",
      "   -------------------------- ------------- 2/3 [pandas]\n",
      "   -------------------------- ------------- 2/3 [pandas]\n",
      "   -------------------------- ------------- 2/3 [pandas]\n",
      "   -------------------------- ------------- 2/3 [pandas]\n",
      "   -------------------------- ------------- 2/3 [pandas]\n",
      "   -------------------------- ------------- 2/3 [pandas]\n",
      "   -------------------------- ------------- 2/3 [pandas]\n",
      "   -------------------------- ------------- 2/3 [pandas]\n",
      "   -------------------------- ------------- 2/3 [pandas]\n",
      "   -------------------------- ------------- 2/3 [pandas]\n",
      "   -------------------------- ------------- 2/3 [pandas]\n",
      "   -------------------------- ------------- 2/3 [pandas]\n",
      "   -------------------------- ------------- 2/3 [pandas]\n",
      "   -------------------------- ------------- 2/3 [pandas]\n",
      "   -------------------------- ------------- 2/3 [pandas]\n",
      "   -------------------------- ------------- 2/3 [pandas]\n",
      "   -------------------------- ------------- 2/3 [pandas]\n",
      "   -------------------------- ------------- 2/3 [pandas]\n",
      "   -------------------------- ------------- 2/3 [pandas]\n",
      "   -------------------------- ------------- 2/3 [pandas]\n",
      "   -------------------------- ------------- 2/3 [pandas]\n",
      "   -------------------------- ------------- 2/3 [pandas]\n",
      "   -------------------------- ------------- 2/3 [pandas]\n",
      "   -------------------------- ------------- 2/3 [pandas]\n",
      "   -------------------------- ------------- 2/3 [pandas]\n",
      "   -------------------------- ------------- 2/3 [pandas]\n",
      "   -------------------------- ------------- 2/3 [pandas]\n",
      "   -------------------------- ------------- 2/3 [pandas]\n",
      "   -------------------------- ------------- 2/3 [pandas]\n",
      "   -------------------------- ------------- 2/3 [pandas]\n",
      "   -------------------------- ------------- 2/3 [pandas]\n",
      "   -------------------------- ------------- 2/3 [pandas]\n",
      "   -------------------------- ------------- 2/3 [pandas]\n",
      "   -------------------------- ------------- 2/3 [pandas]\n",
      "   -------------------------- ------------- 2/3 [pandas]\n",
      "   -------------------------- ------------- 2/3 [pandas]\n",
      "   -------------------------- ------------- 2/3 [pandas]\n",
      "   -------------------------- ------------- 2/3 [pandas]\n",
      "   -------------------------- ------------- 2/3 [pandas]\n",
      "   -------------------------- ------------- 2/3 [pandas]\n",
      "   -------------------------- ------------- 2/3 [pandas]\n",
      "   -------------------------- ------------- 2/3 [pandas]\n",
      "   -------------------------- ------------- 2/3 [pandas]\n",
      "   -------------------------- ------------- 2/3 [pandas]\n",
      "   -------------------------- ------------- 2/3 [pandas]\n",
      "   -------------------------- ------------- 2/3 [pandas]\n",
      "   -------------------------- ------------- 2/3 [pandas]\n",
      "   -------------------------- ------------- 2/3 [pandas]\n",
      "   -------------------------- ------------- 2/3 [pandas]\n",
      "   -------------------------- ------------- 2/3 [pandas]\n",
      "   -------------------------- ------------- 2/3 [pandas]\n",
      "   -------------------------- ------------- 2/3 [pandas]\n",
      "   -------------------------- ------------- 2/3 [pandas]\n",
      "   -------------------------- ------------- 2/3 [pandas]\n",
      "   -------------------------- ------------- 2/3 [pandas]\n",
      "   -------------------------- ------------- 2/3 [pandas]\n",
      "   -------------------------- ------------- 2/3 [pandas]\n",
      "   -------------------------- ------------- 2/3 [pandas]\n",
      "   -------------------------- ------------- 2/3 [pandas]\n",
      "   -------------------------- ------------- 2/3 [pandas]\n",
      "   -------------------------- ------------- 2/3 [pandas]\n",
      "   -------------------------- ------------- 2/3 [pandas]\n",
      "   -------------------------- ------------- 2/3 [pandas]\n",
      "   -------------------------- ------------- 2/3 [pandas]\n",
      "   -------------------------- ------------- 2/3 [pandas]\n",
      "   -------------------------- ------------- 2/3 [pandas]\n",
      "   -------------------------- ------------- 2/3 [pandas]\n",
      "   -------------------------- ------------- 2/3 [pandas]\n",
      "   -------------------------- ------------- 2/3 [pandas]\n",
      "   -------------------------- ------------- 2/3 [pandas]\n",
      "   -------------------------- ------------- 2/3 [pandas]\n",
      "   -------------------------- ------------- 2/3 [pandas]\n",
      "   -------------------------- ------------- 2/3 [pandas]\n",
      "   -------------------------- ------------- 2/3 [pandas]\n",
      "   -------------------------- ------------- 2/3 [pandas]\n",
      "   -------------------------- ------------- 2/3 [pandas]\n",
      "   -------------------------- ------------- 2/3 [pandas]\n",
      "   -------------------------- ------------- 2/3 [pandas]\n",
      "   -------------------------- ------------- 2/3 [pandas]\n",
      "   -------------------------- ------------- 2/3 [pandas]\n",
      "   -------------------------- ------------- 2/3 [pandas]\n",
      "   -------------------------- ------------- 2/3 [pandas]\n",
      "   -------------------------- ------------- 2/3 [pandas]\n",
      "   -------------------------- ------------- 2/3 [pandas]\n",
      "   -------------------------- ------------- 2/3 [pandas]\n",
      "   -------------------------- ------------- 2/3 [pandas]\n",
      "   -------------------------- ------------- 2/3 [pandas]\n",
      "   -------------------------- ------------- 2/3 [pandas]\n",
      "   -------------------------- ------------- 2/3 [pandas]\n",
      "   -------------------------- ------------- 2/3 [pandas]\n",
      "   ---------------------------------------- 3/3 [pandas]\n",
      "\n",
      "Successfully installed pandas-2.2.3 pytz-2025.2 tzdata-2025.2\n",
      "Note: you may need to restart the kernel to use updated packages.\n"
     ]
    }
   ],
   "source": [
    "pip install pandas"
   ]
  },
  {
   "cell_type": "code",
   "execution_count": 34,
   "id": "df34f323-272b-409b-bdd6-32d27abcf479",
   "metadata": {},
   "outputs": [
    {
     "name": "stdout",
     "output_type": "stream",
     "text": [
      "Requirement already satisfied: numpy in c:\\users\\emolt\\anaconda3\\envs\\py310real\\lib\\site-packages (2.2.6)\n",
      "Note: you may need to restart the kernel to use updated packages.\n"
     ]
    }
   ],
   "source": [
    "pip install numpy"
   ]
  },
  {
   "cell_type": "code",
   "execution_count": 52,
   "id": "43a72d11-589a-4282-9533-918d97254e58",
   "metadata": {},
   "outputs": [
    {
     "ename": "IndexError",
     "evalue": "list index out of range",
     "output_type": "error",
     "traceback": [
      "\u001b[1;31m---------------------------------------------------------------------------\u001b[0m",
      "\u001b[1;31mIndexError\u001b[0m                                Traceback (most recent call last)",
      "Cell \u001b[1;32mIn[52], line 11\u001b[0m\n\u001b[0;32m      4\u001b[0m df \u001b[38;5;241m=\u001b[39m pd\u001b[38;5;241m.\u001b[39mDataFrame()\n\u001b[0;32m      5\u001b[0m df[\u001b[38;5;124m'\u001b[39m\u001b[38;5;124mConsulta\u001b[39m\u001b[38;5;124m'\u001b[39m] \u001b[38;5;241m=\u001b[39m [query_1, query_2, query_3, query_4, query_5, \n\u001b[0;32m      6\u001b[0m                   query_6, query_7, query_8, query_9, query_10, \n\u001b[0;32m      7\u001b[0m                   query_11, query_12, query_13, query_14, query_15, \n\u001b[0;32m      8\u001b[0m                   query_16, query_17,query_18, query_19, query_20, \n\u001b[0;32m      9\u001b[0m                   query_21, query_22, query_23, query_24, query_25]\n\u001b[1;32m---> 11\u001b[0m df[\u001b[38;5;124m'\u001b[39m\u001b[38;5;124mRetrieved_context_1\u001b[39m\u001b[38;5;124m'\u001b[39m] \u001b[38;5;241m=\u001b[39m [\u001b[43mretrieved_docs_1\u001b[49m\u001b[43m[\u001b[49m\u001b[38;5;241;43m0\u001b[39;49m\u001b[43m]\u001b[49m, retrieved_docs_2[\u001b[38;5;241m0\u001b[39m], retrieved_docs_3[\u001b[38;5;241m0\u001b[39m], retrieved_docs_4[\u001b[38;5;241m0\u001b[39m], retrieved_docs_5[\u001b[38;5;241m0\u001b[39m], \n\u001b[0;32m     12\u001b[0m                              retrieved_docs_6[\u001b[38;5;241m0\u001b[39m], retrieved_docs_7[\u001b[38;5;241m0\u001b[39m], retrieved_docs_8[\u001b[38;5;241m0\u001b[39m], retrieved_docs_9[\u001b[38;5;241m0\u001b[39m], retrieved_docs_10[\u001b[38;5;241m0\u001b[39m], \n\u001b[0;32m     13\u001b[0m                              retrieved_docs_11[\u001b[38;5;241m0\u001b[39m], retrieved_docs_12[\u001b[38;5;241m0\u001b[39m], retrieved_docs_13[\u001b[38;5;241m0\u001b[39m], retrieved_docs_14[\u001b[38;5;241m0\u001b[39m], retrieved_docs_15[\u001b[38;5;241m0\u001b[39m], \n\u001b[0;32m     14\u001b[0m                              retrieved_docs_16[\u001b[38;5;241m0\u001b[39m], retrieved_docs_17[\u001b[38;5;241m0\u001b[39m], retrieved_docs_18[\u001b[38;5;241m0\u001b[39m], retrieved_docs_19[\u001b[38;5;241m0\u001b[39m], retrieved_docs_20[\u001b[38;5;241m0\u001b[39m], \n\u001b[0;32m     15\u001b[0m                              retrieved_docs_21[\u001b[38;5;241m0\u001b[39m], retrieved_docs_22[\u001b[38;5;241m0\u001b[39m], retrieved_docs_23[\u001b[38;5;241m0\u001b[39m], retrieved_docs_24[\u001b[38;5;241m0\u001b[39m], retrieved_docs_25[\u001b[38;5;241m0\u001b[39m]]\n\u001b[0;32m     17\u001b[0m df[\u001b[38;5;124m'\u001b[39m\u001b[38;5;124mRetrieved_context_2\u001b[39m\u001b[38;5;124m'\u001b[39m] \u001b[38;5;241m=\u001b[39m [\n\u001b[0;32m     18\u001b[0m     retrieved_docs_1[\u001b[38;5;241m1\u001b[39m], retrieved_docs_2[\u001b[38;5;241m1\u001b[39m], retrieved_docs_3[\u001b[38;5;241m1\u001b[39m], retrieved_docs_4[\u001b[38;5;241m1\u001b[39m],\n\u001b[0;32m     19\u001b[0m     retrieved_docs_5[\u001b[38;5;241m1\u001b[39m], retrieved_docs_6[\u001b[38;5;241m1\u001b[39m], retrieved_docs_7[\u001b[38;5;241m1\u001b[39m], retrieved_docs_8[\u001b[38;5;241m1\u001b[39m],\n\u001b[1;32m   (...)\u001b[0m\n\u001b[0;32m     24\u001b[0m     retrieved_docs_25[\u001b[38;5;241m1\u001b[39m]\n\u001b[0;32m     25\u001b[0m ]\n\u001b[0;32m     27\u001b[0m df[\u001b[38;5;124m'\u001b[39m\u001b[38;5;124mRetrieved_context_3\u001b[39m\u001b[38;5;124m'\u001b[39m] \u001b[38;5;241m=\u001b[39m [\n\u001b[0;32m     28\u001b[0m     retrieved_docs_1[\u001b[38;5;241m2\u001b[39m], retrieved_docs_2[\u001b[38;5;241m2\u001b[39m], retrieved_docs_3[\u001b[38;5;241m2\u001b[39m], retrieved_docs_4[\u001b[38;5;241m2\u001b[39m],\n\u001b[0;32m     29\u001b[0m     retrieved_docs_5[\u001b[38;5;241m2\u001b[39m], retrieved_docs_6[\u001b[38;5;241m2\u001b[39m], retrieved_docs_7[\u001b[38;5;241m2\u001b[39m], retrieved_docs_8[\u001b[38;5;241m2\u001b[39m],\n\u001b[1;32m   (...)\u001b[0m\n\u001b[0;32m     34\u001b[0m     retrieved_docs_25[\u001b[38;5;241m2\u001b[39m]\n\u001b[0;32m     35\u001b[0m ]\n",
      "\u001b[1;31mIndexError\u001b[0m: list index out of range"
     ]
    }
   ],
   "source": [
    "import pandas as pd\n",
    "import numpy as np\n",
    "\n",
    "df = pd.DataFrame()\n",
    "df['Consulta'] = [query_1, query_2, query_3, query_4, query_5, \n",
    "                  query_6, query_7, query_8, query_9, query_10, \n",
    "                  query_11, query_12, query_13, query_14, query_15, \n",
    "                  query_16, query_17,query_18, query_19, query_20, \n",
    "                  query_21, query_22, query_23, query_24, query_25]\n",
    "\n",
    "df['Retrieved_context_1'] = [retrieved_docs_1[0], retrieved_docs_2[0], retrieved_docs_3[0], retrieved_docs_4[0], retrieved_docs_5[0], \n",
    "                             retrieved_docs_6[0], retrieved_docs_7[0], retrieved_docs_8[0], retrieved_docs_9[0], retrieved_docs_10[0], \n",
    "                             retrieved_docs_11[0], retrieved_docs_12[0], retrieved_docs_13[0], retrieved_docs_14[0], retrieved_docs_15[0], \n",
    "                             retrieved_docs_16[0], retrieved_docs_17[0], retrieved_docs_18[0], retrieved_docs_19[0], retrieved_docs_20[0], \n",
    "                             retrieved_docs_21[0], retrieved_docs_22[0], retrieved_docs_23[0], retrieved_docs_24[0], retrieved_docs_25[0]]\n",
    "\n",
    "df['Retrieved_context_2'] = [\n",
    "    retrieved_docs_1[1], retrieved_docs_2[1], retrieved_docs_3[1], retrieved_docs_4[1],\n",
    "    retrieved_docs_5[1], retrieved_docs_6[1], retrieved_docs_7[1], retrieved_docs_8[1],\n",
    "    retrieved_docs_9[1], retrieved_docs_10[1], retrieved_docs_11[1], retrieved_docs_12[1],\n",
    "    retrieved_docs_13[1], retrieved_docs_14[1], retrieved_docs_15[1], retrieved_docs_16[1],\n",
    "    retrieved_docs_17[1], retrieved_docs_18[1], retrieved_docs_19[1], retrieved_docs_20[1],\n",
    "    retrieved_docs_21[1], retrieved_docs_22[1], retrieved_docs_23[1], retrieved_docs_24[1],\n",
    "    retrieved_docs_25[1]\n",
    "]\n",
    "\n",
    "df['Retrieved_context_3'] = [\n",
    "    retrieved_docs_1[2], retrieved_docs_2[2], retrieved_docs_3[2], retrieved_docs_4[2],\n",
    "    retrieved_docs_5[2], retrieved_docs_6[2], retrieved_docs_7[2], retrieved_docs_8[2],\n",
    "    retrieved_docs_9[2], retrieved_docs_10[2], retrieved_docs_11[2], retrieved_docs_12[2],\n",
    "    retrieved_docs_13[2], retrieved_docs_14[2], retrieved_docs_15[2], retrieved_docs_16[2],\n",
    "    retrieved_docs_17[2], retrieved_docs_18[2], retrieved_docs_19[2], retrieved_docs_20[2],\n",
    "    retrieved_docs_21[2], retrieved_docs_22[2], retrieved_docs_23[2], retrieved_docs_24[2],\n",
    "    retrieved_docs_25[2]\n",
    "]\n",
    "\n",
    "df['Retrieved_context_4'] = [\n",
    "    retrieved_docs_1[3], retrieved_docs_2[3], retrieved_docs_3[3], retrieved_docs_4[3],\n",
    "    retrieved_docs_5[3], retrieved_docs_6[3], retrieved_docs_7[3], retrieved_docs_8[3],\n",
    "    retrieved_docs_9[3], retrieved_docs_10[3], retrieved_docs_11[3], retrieved_docs_12[3],\n",
    "    retrieved_docs_13[3], retrieved_docs_14[3], retrieved_docs_15[3], retrieved_docs_16[3],\n",
    "    retrieved_docs_17[3], retrieved_docs_18[3], retrieved_docs_19[3], retrieved_docs_20[3],\n",
    "    retrieved_docs_21[3], retrieved_docs_22[3], retrieved_docs_23[3], retrieved_docs_24[3],\n",
    "    retrieved_docs_25[3]\n",
    "]\n",
    "\n",
    "df['Retrieved_context_5'] = [\n",
    "    retrieved_docs_1[4], retrieved_docs_2[4], retrieved_docs_3[4], retrieved_docs_4[4],\n",
    "    retrieved_docs_5[4], retrieved_docs_6[4], retrieved_docs_7[4], retrieved_docs_8[4],\n",
    "    retrieved_docs_9[4], retrieved_docs_10[4], retrieved_docs_11[4], retrieved_docs_12[4],\n",
    "    retrieved_docs_13[4], retrieved_docs_14[4], retrieved_docs_15[4], retrieved_docs_16[4],\n",
    "    retrieved_docs_17[4], retrieved_docs_18[4], retrieved_docs_19[4], retrieved_docs_20[4],\n",
    "    retrieved_docs_21[4], retrieved_docs_22[4], retrieved_docs_23[4], retrieved_docs_24[4],\n",
    "    retrieved_docs_25[4]\n",
    "]\n",
    "\n",
    "df['Retrieved_context_6'] = [\n",
    "    retrieved_docs_1[5], retrieved_docs_2[5], retrieved_docs_3[5], retrieved_docs_4[5],\n",
    "    retrieved_docs_5[5], retrieved_docs_6[5], retrieved_docs_7[5], retrieved_docs_8[5],\n",
    "    retrieved_docs_9[5], retrieved_docs_10[5], retrieved_docs_11[5], retrieved_docs_12[5],\n",
    "    retrieved_docs_13[5], retrieved_docs_14[5], retrieved_docs_15[5], retrieved_docs_16[5],\n",
    "    retrieved_docs_17[5], retrieved_docs_18[5], retrieved_docs_19[5], retrieved_docs_20[5],\n",
    "    retrieved_docs_21[5], retrieved_docs_22[5], retrieved_docs_23[5], retrieved_docs_24[5],\n",
    "    retrieved_docs_25[5]\n",
    "]\n",
    "\n",
    "df['Retrieved_context_7'] = [\n",
    "    retrieved_docs_1[6], retrieved_docs_2[6], retrieved_docs_3[6], retrieved_docs_4[6],\n",
    "    retrieved_docs_5[6], retrieved_docs_6[6], retrieved_docs_7[6], retrieved_docs_8[6],\n",
    "    retrieved_docs_9[6], retrieved_docs_10[6], retrieved_docs_11[6], retrieved_docs_12[6],\n",
    "    retrieved_docs_13[6], retrieved_docs_14[6], retrieved_docs_15[6], retrieved_docs_16[6],\n",
    "    retrieved_docs_17[6], retrieved_docs_18[6], retrieved_docs_19[6], retrieved_docs_20[6],\n",
    "    retrieved_docs_21[6], retrieved_docs_22[6], retrieved_docs_23[6], retrieved_docs_24[6],\n",
    "    retrieved_docs_25[6]\n",
    "]\n",
    "\n",
    "df['Retrieved_context_8'] = [\n",
    "    retrieved_docs_1[7], retrieved_docs_2[7], retrieved_docs_3[7], retrieved_docs_4[7],\n",
    "    retrieved_docs_5[7], retrieved_docs_6[7], retrieved_docs_7[7], retrieved_docs_8[7],\n",
    "    retrieved_docs_9[7], retrieved_docs_10[7], retrieved_docs_11[7], retrieved_docs_12[7],\n",
    "    retrieved_docs_13[7], retrieved_docs_14[7], retrieved_docs_15[7], retrieved_docs_16[7],\n",
    "    retrieved_docs_17[7], retrieved_docs_18[7], retrieved_docs_19[7], retrieved_docs_20[7],\n",
    "    retrieved_docs_21[7], retrieved_docs_22[7], retrieved_docs_23[7], retrieved_docs_24[7],\n",
    "    retrieved_docs_25[7]\n",
    "]\n",
    "\n",
    "\n",
    "df['Answer'] = [answer_1, answer_2, answer_3, answer_4, answer_5,\n",
    "    answer_6, answer_7, answer_8, answer_9, answer_10, \n",
    "    answer_11, answer_12, answer_13, answer_14, answer_15,\n",
    "    answer_16, answer_17, answer_18, answer_19, answer_20, \n",
    "    answer_21, answer_22, answer_23, answer_24, answer_25\n",
    "]\n",
    "\n",
    "\n",
    "df"
   ]
  },
  {
   "cell_type": "code",
   "execution_count": 47,
   "id": "bda5a793-baf4-4c63-b434-762184198b52",
   "metadata": {
    "scrolled": true
   },
   "outputs": [
    {
     "name": "stdout",
     "output_type": "stream",
     "text": [
      "Collecting openpyxl\n",
      "  Using cached openpyxl-3.1.4-py2.py3-none-any.whl.metadata (2.5 kB)\n",
      "Collecting et-xmlfile (from openpyxl)\n",
      "  Using cached et_xmlfile-1.1.0-py3-none-any.whl.metadata (1.8 kB)\n",
      "Using cached openpyxl-3.1.4-py2.py3-none-any.whl (251 kB)\n",
      "Using cached et_xmlfile-1.1.0-py3-none-any.whl (4.7 kB)\n",
      "Installing collected packages: et-xmlfile, openpyxl\n",
      "Successfully installed et-xmlfile-1.1.0 openpyxl-3.1.4\n"
     ]
    }
   ],
   "source": [
    "!pip install openpyxl"
   ]
  },
  {
   "cell_type": "code",
   "execution_count": 35,
   "id": "0ab9d3b3-88bb-4303-8cba-cf0ab1faec11",
   "metadata": {},
   "outputs": [],
   "source": [
    "df.to_excel('Testeo_RAG_Texto_1000_bge_18072024.xlsx', index=False)"
   ]
  },
  {
   "cell_type": "code",
   "execution_count": null,
   "id": "d1903670-998c-4fba-93ab-49aa714153c4",
   "metadata": {},
   "outputs": [],
   "source": []
  },
  {
   "cell_type": "code",
   "execution_count": null,
   "id": "a9f69ffc-f4e0-4294-b55a-9927e5e778a9",
   "metadata": {},
   "outputs": [],
   "source": []
  },
  {
   "cell_type": "code",
   "execution_count": null,
   "id": "616805bc-502c-4630-98a2-a83a0c6bc9ce",
   "metadata": {},
   "outputs": [],
   "source": []
  },
  {
   "cell_type": "code",
   "execution_count": null,
   "id": "4b8987a7-11c9-4e09-897c-ac2919255078",
   "metadata": {},
   "outputs": [],
   "source": []
  },
  {
   "cell_type": "code",
   "execution_count": null,
   "id": "249b91df-d5b7-4e74-a919-3855e82b8630",
   "metadata": {},
   "outputs": [],
   "source": []
  }
 ],
 "metadata": {
  "kernelspec": {
   "display_name": "Python 3.10 REAL",
   "language": "python",
   "name": "py310real"
  },
  "language_info": {
   "codemirror_mode": {
    "name": "ipython",
    "version": 3
   },
   "file_extension": ".py",
   "mimetype": "text/x-python",
   "name": "python",
   "nbconvert_exporter": "python",
   "pygments_lexer": "ipython3",
   "version": "3.10.16"
  }
 },
 "nbformat": 4,
 "nbformat_minor": 5
}
